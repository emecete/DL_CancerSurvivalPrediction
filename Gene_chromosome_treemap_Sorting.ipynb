{
 "cells": [
  {
   "cell_type": "markdown",
   "metadata": {},
   "source": [
    "# Gene sorting by Chromosome location (TreeMap)\n",
    "The main idea of this paper is to rearrange gene expression profiles data into tree-map images, according to the chromosome and location each gene belongs to (chromosomal locus)."
   ]
  },
  {
   "cell_type": "code",
   "execution_count": 3,
   "metadata": {},
   "outputs": [],
   "source": [
    "import pandas as pd\n",
    "import numpy as np"
   ]
  },
  {
   "cell_type": "code",
   "execution_count": 7,
   "metadata": {},
   "outputs": [],
   "source": [
    "# TCGA\n",
    "#pp_df_gene_exp = pd.read_hdf(\"data/preprocessed1_expr.h5\", key='expression') # only selected features\n",
    "df_gene_exp = pd.read_hdf(\"data/TCGA_data.h5\", key='both_gene_expression') # all"
   ]
  },
  {
   "cell_type": "code",
   "execution_count": 4,
   "metadata": {},
   "outputs": [
    {
     "name": "stderr",
     "output_type": "stream",
     "text": [
      "/home/mcabello/almacen/miniconda3/envs/maria_env/lib/python3.6/site-packages/ipykernel_launcher.py:11: FutureWarning: read_table is deprecated, use read_csv instead, passing sep='\\t'.\n",
      "  # This is added back by InteractiveShellApp.init_path()\n"
     ]
    }
   ],
   "source": [
    "gene_chrom = pd.read_table('/mnt/ext/almacen/comun/Francis/almacen//GenSig/data/ensembl_gene_chromosome.tsv',\n",
    "                           index_col=0, \n",
    "                           header = 0,\n",
    "                           names=['gene_id', 'gene_id_version', 'chromosome', 'gene_start', 'gene_end', 'transcript_start', 'transcript_end'],\n",
    "                           dtype = {'Gene stable ID': str,\n",
    "                                    'Gene stable ID version': str,\n",
    "                                    'Chromosome/scaffold name': str,\n",
    "                                    'Gene start (bp)': np.int32,\n",
    "                                    'Gene end (bp)': np.int32,\n",
    "                                    'Transcript start (bp)': np.int32,\n",
    "                                    'Transcript end (bp)': np.int32})"
   ]
  },
  {
   "cell_type": "code",
   "execution_count": 5,
   "metadata": {},
   "outputs": [],
   "source": [
    "gene_chrom = gene_chrom[~gene_chrom.index.duplicated()]"
   ]
  },
  {
   "cell_type": "code",
   "execution_count": 26,
   "metadata": {},
   "outputs": [
    {
     "data": {
      "text/plain": [
       "(64914, 6)"
      ]
     },
     "execution_count": 26,
     "metadata": {},
     "output_type": "execute_result"
    }
   ],
   "source": [
    "gene_chrom.shape"
   ]
  },
  {
   "cell_type": "code",
   "execution_count": 11,
   "metadata": {
    "scrolled": true
   },
   "outputs": [
    {
     "data": {
      "text/plain": [
       "Index(['ENSG00000000003.14', 'ENSG00000000005.5', 'ENSG00000000419.12',\n",
       "       'ENSG00000000457.13', 'ENSG00000000460.16', 'ENSG00000000938.12',\n",
       "       'ENSG00000000971.15', 'ENSG00000001036.13', 'ENSG00000001084.10',\n",
       "       'ENSG00000001167.14',\n",
       "       ...\n",
       "       'ENSGR0000263980.5', 'ENSGR0000264510.5', 'ENSGR0000264819.5',\n",
       "       'ENSGR0000265658.5', 'ENSGR0000270726.5', 'ENSGR0000275287.4',\n",
       "       'ENSGR0000276543.4', 'ENSGR0000277120.4', 'ENSGR0000280767.2',\n",
       "       'ENSGR0000281849.2'],\n",
       "      dtype='object', length=60498)"
      ]
     },
     "execution_count": 11,
     "metadata": {},
     "output_type": "execute_result"
    }
   ],
   "source": [
    "df_gene_exp.columns"
   ]
  },
  {
   "cell_type": "code",
   "execution_count": 39,
   "metadata": {},
   "outputs": [],
   "source": [
    "common = set(gene_chrom.gene_id_version).intersection(df_gene_exp.columns)"
   ]
  },
  {
   "cell_type": "code",
   "execution_count": 46,
   "metadata": {},
   "outputs": [],
   "source": [
    "gene_chrom = gene_chrom.loc[gene_chrom['gene_id_version'].isin(list(common))]"
   ]
  },
  {
   "cell_type": "code",
   "execution_count": 48,
   "metadata": {},
   "outputs": [
    {
     "data": {
      "text/plain": [
       "1     4512\n",
       "2     3583\n",
       "11    2743\n",
       "3     2700\n",
       "17    2670\n",
       "12    2655\n",
       "19    2622\n",
       "5     2614\n",
       "7     2539\n",
       "6     2518\n",
       "4     2319\n",
       "16    2228\n",
       "8     2114\n",
       "X     2058\n",
       "9     1986\n",
       "14    1973\n",
       "10    1933\n",
       "15    1931\n",
       "20    1246\n",
       "22    1188\n",
       "13    1169\n",
       "18    1049\n",
       "21     771\n",
       "Y      499\n",
       "MT      37\n",
       "Name: chromosome, dtype: int64"
      ]
     },
     "execution_count": 48,
     "metadata": {},
     "output_type": "execute_result"
    }
   ],
   "source": [
    "gene_chrom['chromosome'].value_counts()"
   ]
  },
  {
   "cell_type": "code",
   "execution_count": 49,
   "metadata": {},
   "outputs": [
    {
     "data": {
      "text/plain": [
       "(51657, 6)"
      ]
     },
     "execution_count": 49,
     "metadata": {},
     "output_type": "execute_result"
    }
   ],
   "source": [
    "gene_chrom.shape"
   ]
  },
  {
   "cell_type": "code",
   "execution_count": 6,
   "metadata": {},
   "outputs": [
    {
     "data": {
      "text/plain": [
       "1                           5317\n",
       "2                           4006\n",
       "11                          3285\n",
       "3                           3050\n",
       "17                          3024\n",
       "12                          2969\n",
       "19                          2959\n",
       "7                           2917\n",
       "6                           2907\n",
       "5                           2878\n",
       "16                          2513\n",
       "4                           2510\n",
       "8                           2386\n",
       "X                           2375\n",
       "9                           2275\n",
       "10                          2240\n",
       "14                          2230\n",
       "15                          2179\n",
       "20                          1397\n",
       "22                          1353\n",
       "13                          1335\n",
       "18                          1183\n",
       "21                           833\n",
       "Y                            518\n",
       "CHR_HSCHR6_MHC_COX_CTG1      335\n",
       "CHR_HSCHR6_MHC_QBL_CTG1      317\n",
       "CHR_HSCHR6_MHC_DBB_CTG1      312\n",
       "CHR_HSCHR6_MHC_SSTO_CTG1     297\n",
       "CHR_HSCHR6_MHC_MANN_CTG1     294\n",
       "CHR_HSCHR6_MHC_MCF_CTG1      287\n",
       "                            ... \n",
       "CHR_HSCHR18_2_CTG1_1           1\n",
       "CHR_HSCHR4_4_CTG12             1\n",
       "GL000219.1                     1\n",
       "CHR_HSCHR5_1_CTG1              1\n",
       "GL000218.1                     1\n",
       "CHR_HSCHR1_3_CTG3              1\n",
       "CHR_HSCHR4_2_CTG12             1\n",
       "KI270744.1                     1\n",
       "GL000216.2                     1\n",
       "CHR_HSCHR1_1_CTG32_1           1\n",
       "CHR_HSCHR4_1_CTG6              1\n",
       "CHR_HSCHR6_1_CTG6              1\n",
       "CHR_HSCHR6_1_CTG10             1\n",
       "CHR_HSCHR7_1_CTG7              1\n",
       "CHR_HG2239_PATCH               1\n",
       "CHR_HSCHR9_1_CTG1              1\n",
       "CHR_HSCHR12_8_CTG2_1           1\n",
       "CHR_HSCHRX_2_CTG12             1\n",
       "CHR_HSCHR12_2_CTG1             1\n",
       "CHR_HG1531_PATCH               1\n",
       "GL000225.1                     1\n",
       "CHR_HG2062_PATCH               1\n",
       "CHR_HSCHR1_9_CTG3              1\n",
       "CHR_HSCHR19_4_CTG2             1\n",
       "CHR_HSCHR17_2_CTG4             1\n",
       "CHR_HSCHR5_7_CTG1              1\n",
       "CHR_HSCHR7_2_CTG7              1\n",
       "CHR_HSCHR13_1_CTG8             1\n",
       "CHR_HSCHR2_3_CTG1              1\n",
       "KI270711.1                     1\n",
       "Name: chromosome, Length: 414, dtype: int64"
      ]
     },
     "execution_count": 6,
     "metadata": {},
     "output_type": "execute_result"
    }
   ],
   "source": [
    "gene_chrom.chromosome.value_counts()"
   ]
  },
  {
   "cell_type": "code",
   "execution_count": 19,
   "metadata": {},
   "outputs": [
    {
     "data": {
      "text/plain": [
       "Index(['1', '2', '11', '3', '17', '12', '19', '7', '6', '5',\n",
       "       ...\n",
       "       'CHR_HSCHR10_1_CTG6', 'CHR_HG2239_PATCH', 'CHR_HSCHR12_2_CTG1',\n",
       "       'CHR_HSCHR4_2_CTG12', 'CHR_HSCHR7_2_CTG7', 'CHR_HSCHR6_1_CTG10',\n",
       "       'KI270711.1', 'CHR_HSCHR12_8_CTG2_1', 'CHR_HSCHR6_1_CTG3',\n",
       "       'CHR_HSCHR5_7_CTG1'],\n",
       "      dtype='object', length=414)"
      ]
     },
     "execution_count": 19,
     "metadata": {},
     "output_type": "execute_result"
    }
   ],
   "source": [
    "gene_chrom['chromosome'].value_counts().index"
   ]
  }
 ],
 "metadata": {
  "kernelspec": {
   "display_name": "Python 3",
   "language": "python",
   "name": "python3"
  },
  "language_info": {
   "codemirror_mode": {
    "name": "ipython",
    "version": 3
   },
   "file_extension": ".py",
   "mimetype": "text/x-python",
   "name": "python",
   "nbconvert_exporter": "python",
   "pygments_lexer": "ipython3",
   "version": "3.6.5"
  }
 },
 "nbformat": 4,
 "nbformat_minor": 2
}
