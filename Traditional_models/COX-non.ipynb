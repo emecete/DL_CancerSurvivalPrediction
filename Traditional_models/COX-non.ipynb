{
 "cells": [
  {
   "cell_type": "code",
   "execution_count": 1,
   "metadata": {},
   "outputs": [],
   "source": [
    "import pandas as pd\n",
    "import numpy as np"
   ]
  },
  {
   "cell_type": "markdown",
   "metadata": {},
   "source": [
    "# Data loading"
   ]
  },
  {
   "cell_type": "markdown",
   "metadata": {},
   "source": [
    "### Expression levels"
   ]
  },
  {
   "cell_type": "code",
   "execution_count": 2,
   "metadata": {},
   "outputs": [],
   "source": [
    "non_brca_ex = pd.read_hdf('../data/TCGA_gene_exp_20k_std-MAD.h5', key='non_brca')"
   ]
  },
  {
   "cell_type": "code",
   "execution_count": 3,
   "metadata": {},
   "outputs": [
    {
     "data": {
      "text/plain": [
       "(9285, 20000)"
      ]
     },
     "execution_count": 3,
     "metadata": {},
     "output_type": "execute_result"
    }
   ],
   "source": [
    "non_brca_ex.shape"
   ]
  },
  {
   "cell_type": "code",
   "execution_count": 4,
   "metadata": {},
   "outputs": [],
   "source": [
    "import ast\n",
    "with open('../common_genes_1-5.txt','r') as f:\n",
    "   common_genes = ast.literal_eval(f.read())"
   ]
  },
  {
   "cell_type": "code",
   "execution_count": 5,
   "metadata": {},
   "outputs": [],
   "source": [
    "non_brca_ex = non_brca_ex[list(common_genes)]"
   ]
  },
  {
   "cell_type": "code",
   "execution_count": 6,
   "metadata": {
    "scrolled": true
   },
   "outputs": [
    {
     "data": {
      "text/plain": [
       "(9285, 1492)"
      ]
     },
     "execution_count": 6,
     "metadata": {},
     "output_type": "execute_result"
    }
   ],
   "source": [
    "non_brca_ex.shape"
   ]
  },
  {
   "cell_type": "raw",
   "metadata": {},
   "source": [
    "corr = all_ex.corr()"
   ]
  },
  {
   "cell_type": "raw",
   "metadata": {},
   "source": [
    "import matplotlib.pyplot as plt\n",
    "%matplotlib inline\n",
    "\n",
    "fig = plt.figure()\n",
    "ax = fig.add_subplot(111)\n",
    "cax = ax.matshow(corr,cmap='coolwarm', vmin=-1, vmax=1)\n",
    "fig.colorbar(cax)\n",
    "#ax.axis('off')\n",
    "plt.show()"
   ]
  },
  {
   "cell_type": "code",
   "execution_count": 7,
   "metadata": {},
   "outputs": [],
   "source": [
    "non_collinear_genes = pd.read_csv('non_collinear_genes.csv')\n",
    "non_collinear_genes = non_collinear_genes[non_collinear_genes.columns[1:]]"
   ]
  },
  {
   "cell_type": "code",
   "execution_count": 8,
   "metadata": {},
   "outputs": [],
   "source": [
    "non_collinear_genes = list(non_collinear_genes.values[0])"
   ]
  },
  {
   "cell_type": "code",
   "execution_count": 9,
   "metadata": {},
   "outputs": [],
   "source": [
    "non_brca_ex = non_brca_ex[non_collinear_genes]"
   ]
  },
  {
   "cell_type": "code",
   "execution_count": 10,
   "metadata": {},
   "outputs": [
    {
     "data": {
      "text/plain": [
       "(9285, 149)"
      ]
     },
     "execution_count": 10,
     "metadata": {},
     "output_type": "execute_result"
    }
   ],
   "source": [
    "non_brca_ex.shape"
   ]
  },
  {
   "cell_type": "markdown",
   "metadata": {},
   "source": [
    "### OS"
   ]
  },
  {
   "cell_type": "code",
   "execution_count": 11,
   "metadata": {},
   "outputs": [],
   "source": [
    "non_brca_os = pd.read_hdf('../data/TCGA_data.h5', key='non_brca_clinical')[['OS', 'OS.time']]"
   ]
  },
  {
   "cell_type": "code",
   "execution_count": 12,
   "metadata": {
    "scrolled": true
   },
   "outputs": [],
   "source": [
    "## non_brca\n",
    "non_brca_os['OS.time'] = non_brca_os['OS.time'].map(lambda x: np.nan if x == 'NaN' else x)\n",
    "non_brca_os['OS'] = non_brca_os['OS'].map(lambda x: np.nan if x == 'NaN' else x)\n",
    "non_brca_os.dropna(subset=['OS.time', 'OS'], inplace=True)\n",
    "non_brca_os['OS.time'] = non_brca_os['OS.time'].astype(float)\n",
    "non_brca_os['OS'] = non_brca_os['OS'].astype(float)"
   ]
  },
  {
   "cell_type": "code",
   "execution_count": 13,
   "metadata": {},
   "outputs": [
    {
     "data": {
      "text/plain": [
       "(9224, 2)"
      ]
     },
     "execution_count": 13,
     "metadata": {},
     "output_type": "execute_result"
    }
   ],
   "source": [
    "non_brca_os.shape"
   ]
  },
  {
   "cell_type": "code",
   "execution_count": 14,
   "metadata": {},
   "outputs": [],
   "source": [
    "non_brca_ex = non_brca_ex.loc[non_brca_os.index]"
   ]
  },
  {
   "cell_type": "code",
   "execution_count": 15,
   "metadata": {},
   "outputs": [
    {
     "data": {
      "text/plain": [
       "9224"
      ]
     },
     "execution_count": 15,
     "metadata": {},
     "output_type": "execute_result"
    }
   ],
   "source": [
    "sum(non_brca_ex.index == non_brca_os.index)"
   ]
  },
  {
   "cell_type": "code",
   "execution_count": 16,
   "metadata": {},
   "outputs": [],
   "source": [
    "non_brca_data = pd.concat([non_brca_ex, non_brca_os], axis=1, join_axes=[non_brca_ex.index])"
   ]
  },
  {
   "cell_type": "code",
   "execution_count": 17,
   "metadata": {},
   "outputs": [
    {
     "data": {
      "text/plain": [
       "(9224, 151)"
      ]
     },
     "execution_count": 17,
     "metadata": {},
     "output_type": "execute_result"
    }
   ],
   "source": [
    "non_brca_data.shape"
   ]
  },
  {
   "cell_type": "code",
   "execution_count": 18,
   "metadata": {},
   "outputs": [],
   "source": [
    "from lifelines import CoxPHFitter"
   ]
  },
  {
   "cell_type": "code",
   "execution_count": 19,
   "metadata": {},
   "outputs": [
    {
     "name": "stdout",
     "output_type": "stream",
     "text": [
      "Iteration 1: norm_delta = 0.97759, step_size = 0.9500, ll = -25414.45343, newton_decrement = 987.05193, seconds_since_start = 1.3\n",
      "Iteration 2: norm_delta = 0.25606, step_size = 0.9500, ll = -24590.62100, newton_decrement = 134.50378, seconds_since_start = 2.3\n",
      "Iteration 3: norm_delta = 0.07815, step_size = 0.9500, ll = -24442.55146, newton_decrement = 13.53672, seconds_since_start = 3.6\n",
      "Iteration 4: norm_delta = 0.02494, step_size = 1.0000, ll = -24427.70157, newton_decrement = 0.87339, seconds_since_start = 4.9\n",
      "Iteration 5: norm_delta = 0.00214, step_size = 1.0000, ll = -24426.78879, newton_decrement = 0.00467, seconds_since_start = 6.2\n",
      "Iteration 6: norm_delta = 0.00001, step_size = 1.0000, ll = -24426.78410, newton_decrement = 0.00000, seconds_since_start = 7.0\n",
      "Iteration 7: norm_delta = 0.00000, step_size = 1.0000, ll = -24426.78410, newton_decrement = 0.00000, seconds_since_start = 7.7\n",
      "Convergence completed after 7 iterations.\n",
      "<lifelines.CoxPHFitter: fitted with 9224 observations, 6171 censored>\n",
      "      duration col = 'OS.time'\n",
      "         event col = 'OS'\n",
      "number of subjects = 9224\n",
      "  number of events = 3053\n",
      "    log-likelihood = -24426.78\n",
      "  time fit was run = 2019-06-26 08:56:03 UTC\n",
      "\n",
      "---\n",
      "                    coef  exp(coef)  se(coef)     z      p  -log2(p)  lower 0.95  upper 0.95\n",
      "ENSG00000138622.3   0.02       1.02      0.01  2.28   0.02      5.48        0.00        0.04\n",
      "ENSG00000163497.2  -0.00       1.00      0.01 -0.36   0.72      0.47       -0.02        0.01\n",
      "ENSG00000144407.9   0.01       1.01      0.01  1.39   0.16      2.60       -0.00        0.02\n",
      "ENSG00000110092.3   0.01       1.01      0.02  0.46   0.65      0.63       -0.02        0.04\n",
      "ENSG00000162728.4   0.00       1.00      0.01  0.22   0.83      0.27       -0.02        0.02\n",
      "ENSG00000121807.5  -0.02       0.99      0.02 -0.82   0.41      1.28       -0.05        0.02\n",
      "ENSG00000188375.4  -0.00       1.00      0.01 -0.44   0.66      0.60       -0.03        0.02\n",
      "ENSG00000039068.18  0.02       1.02      0.01  1.88   0.06      4.07       -0.00        0.04\n",
      "ENSG00000135902.9   0.03       1.03      0.01  4.95 <0.005     20.36        0.02        0.05\n",
      "ENSG00000104368.17  0.01       1.01      0.01  0.98   0.33      1.61       -0.01        0.04\n",
      "ENSG00000174697.4  -0.01       0.99      0.01 -0.74   0.46      1.13       -0.02        0.01\n",
      "ENSG00000170175.10 -0.08       0.92      0.02 -3.30 <0.005     10.02       -0.13       -0.03\n",
      "ENSG00000095752.6   0.02       1.02      0.01  2.10   0.04      4.79        0.00        0.04\n",
      "ENSG00000073008.14  0.06       1.06      0.03  2.07   0.04      4.69        0.00        0.11\n",
      "ENSG00000108179.13  0.05       1.05      0.03  1.83   0.07      3.90       -0.00        0.11\n",
      "ENSG00000106462.10  0.06       1.06      0.03  1.91   0.06      4.15       -0.00        0.12\n",
      "ENSG00000070193.4   0.01       1.01      0.01  1.20   0.23      2.11       -0.01        0.02\n",
      "ENSG00000116824.4  -0.05       0.95      0.03 -1.80   0.07      3.79       -0.10        0.00\n",
      "ENSG00000146276.11 -0.00       1.00      0.01 -0.38   0.70      0.51       -0.01        0.01\n",
      "ENSG00000074219.13 -0.05       0.96      0.02 -2.13   0.03      4.91       -0.09       -0.00\n",
      "ENSG00000081041.8   0.02       1.02      0.01  1.82   0.07      3.87       -0.00        0.04\n",
      "ENSG00000137285.9   0.02       1.02      0.01  1.67   0.09      3.41       -0.00        0.04\n",
      "ENSG00000082014.16  0.02       1.02      0.02  0.88   0.38      1.41       -0.02        0.06\n",
      "ENSG00000131409.12  0.04       1.04      0.01  2.87 <0.005      7.92        0.01        0.07\n",
      "ENSG00000176170.13  0.01       1.01      0.02  0.71   0.48      1.06       -0.02        0.05\n",
      "ENSG00000164692.17  0.05       1.05      0.02  2.37   0.02      5.82        0.01        0.09\n",
      "ENSG00000137825.10  0.01       1.01      0.01  1.09   0.28      1.85       -0.01        0.04\n",
      "ENSG00000115602.16 -0.01       0.99      0.01 -0.69   0.49      1.02       -0.03        0.01\n",
      "ENSG00000075213.10  0.04       1.05      0.01  4.17 <0.005     14.98        0.02        0.07\n",
      "ENSG00000051180.16  0.05       1.05      0.03  1.48   0.14      2.85       -0.01        0.10\n",
      "ENSG00000116741.7   0.00       1.00      0.02  0.00   1.00      0.00       -0.03        0.03\n",
      "ENSG00000162337.11  0.05       1.05      0.02  2.08   0.04      4.74        0.00        0.10\n",
      "ENSG00000110076.18  0.01       1.01      0.01  0.90   0.37      1.44       -0.01        0.04\n",
      "ENSG00000138166.5   0.01       1.01      0.02  0.80   0.42      1.25       -0.02        0.05\n",
      "ENSG00000116106.11 -0.02       0.98      0.01 -1.06   0.29      1.79       -0.04        0.01\n",
      "ENSG00000130427.2   0.00       1.00      0.01  0.43   0.67      0.58       -0.01        0.02\n",
      "ENSG00000174564.12  0.04       1.04      0.01  3.68 <0.005     12.09        0.02        0.07\n",
      "ENSG00000008394.12  0.03       1.03      0.01  3.26 <0.005      9.81        0.01        0.05\n",
      "ENSG00000163558.12  0.05       1.05      0.03  1.57   0.12      3.11       -0.01        0.11\n",
      "ENSG00000100697.14 -0.09       0.92      0.04 -2.28   0.02      5.46       -0.16       -0.01\n",
      "ENSG00000115825.9   0.06       1.06      0.03  2.06   0.04      4.65        0.00        0.12\n",
      "ENSG00000184995.7  -0.01       0.99      0.01 -0.98   0.33      1.62       -0.02        0.01\n",
      "ENSG00000116991.10 -0.01       0.99      0.02 -0.35   0.73      0.46       -0.05        0.03\n",
      "ENSG00000112769.18 -0.11       0.90      0.02 -5.07 <0.005     21.24       -0.15       -0.07\n",
      "ENSG00000102096.9  -0.09       0.91      0.02 -3.75 <0.005     12.46       -0.14       -0.04\n",
      "ENSG00000180340.6   0.03       1.03      0.02  1.83   0.07      3.90       -0.00        0.07\n",
      "ENSG00000090776.5   0.01       1.01      0.02  0.27   0.78      0.35       -0.04        0.05\n",
      "ENSG00000105664.10  0.01       1.01      0.01  0.68   0.50      1.00       -0.01        0.02\n",
      "ENSG00000058091.16 -0.03       0.97      0.02 -1.43   0.15      2.72       -0.07        0.01\n",
      "ENSG00000124198.8  -0.13       0.88      0.04 -3.25 <0.005      9.78       -0.21       -0.05\n",
      "ENSG00000197905.8  -0.01       0.99      0.02 -0.62   0.54      0.89       -0.05        0.03\n",
      "ENSG00000107831.12  0.00       1.00      0.01  0.08   0.94      0.09       -0.01        0.01\n",
      "ENSG00000196917.5   0.01       1.01      0.01  0.91   0.37      1.45       -0.01        0.02\n",
      "ENSG00000150093.18  0.05       1.05      0.04  1.40   0.16      2.64       -0.02        0.12\n",
      "ENSG00000105810.9   0.08       1.08      0.02  4.50 <0.005     17.14        0.04        0.11\n",
      "ENSG00000101405.3   0.00       1.00      0.01  0.17   0.86      0.21       -0.01        0.01\n",
      "ENSG00000169047.5  -0.05       0.95      0.02 -2.95 <0.005      8.30       -0.09       -0.02\n",
      "ENSG00000172724.11  0.01       1.01      0.01  0.87   0.39      1.37       -0.01        0.03\n",
      "ENSG00000049283.17  0.00       1.00      0.01  0.32   0.75      0.42       -0.02        0.02\n",
      "ENSG00000173083.14  0.05       1.05      0.02  2.89 <0.005      8.04        0.02        0.09\n",
      "ENSG00000158815.10 -0.05       0.96      0.01 -5.40 <0.005     23.85       -0.06       -0.03\n",
      "ENSG00000278705.1   0.00       1.00      0.01  0.39   0.69      0.53       -0.01        0.01\n",
      "ENSG00000129675.15  0.05       1.05      0.03  1.88   0.06      4.07       -0.00        0.11\n",
      "ENSG00000102879.15 -0.11       0.89      0.04 -3.19 <0.005      9.45       -0.18       -0.04\n",
      "ENSG00000142156.14  0.02       1.02      0.03  0.56   0.57      0.80       -0.04        0.08\n",
      "ENSG00000184113.9   0.07       1.07      0.02  3.68 <0.005     12.09        0.03        0.11\n",
      "ENSG00000181274.6  -0.13       0.88      0.03 -4.38 <0.005     16.36       -0.19       -0.07\n",
      "ENSG00000135333.13 -0.01       0.99      0.01 -1.20   0.23      2.12       -0.02        0.01\n",
      "ENSG00000075073.14  0.04       1.04      0.01  3.19 <0.005      9.46        0.02        0.07\n",
      "ENSG00000198515.13 -0.01       0.99      0.01 -1.18   0.24      2.07       -0.03        0.01\n",
      "ENSG00000100055.20  0.04       1.04      0.04  0.94   0.35      1.52       -0.04        0.12\n",
      "ENSG00000143507.17  0.01       1.01      0.02  0.79   0.43      1.23       -0.02        0.05\n",
      "ENSG00000141736.13  0.01       1.01      0.02  0.61   0.54      0.88       -0.03        0.05\n",
      "ENSG00000105122.12 -0.04       0.96      0.04 -0.92   0.36      1.49       -0.11        0.04\n",
      "ENSG00000065325.12  0.02       1.02      0.01  2.97 <0.005      8.40        0.01        0.04\n",
      "ENSG00000159899.14  0.01       1.01      0.02  0.38   0.71      0.50       -0.03        0.05\n",
      "ENSG00000111344.11 -0.00       1.00      0.01 -0.29   0.77      0.38       -0.02        0.02\n",
      "ENSG00000100625.8  -0.03       0.97      0.01 -2.16   0.03      5.01       -0.05       -0.00\n",
      "ENSG00000244067.2   0.00       1.00      0.01  0.48   0.63      0.66       -0.01        0.01\n",
      "ENSG00000081051.7  -0.00       1.00      0.01 -0.43   0.67      0.58       -0.01        0.01\n",
      "ENSG00000196230.12 -0.09       0.92      0.04 -2.09   0.04      4.76       -0.17       -0.01\n",
      "ENSG00000118260.14 -0.01       0.99      0.04 -0.25   0.80      0.32       -0.10        0.08\n",
      "ENSG00000180209.11 -0.01       0.99      0.01 -1.43   0.15      2.72       -0.03        0.00\n",
      "ENSG00000135423.12 -0.04       0.96      0.01 -3.71 <0.005     12.25       -0.07       -0.02\n",
      "ENSG00000145604.15  0.10       1.10      0.03  3.18 <0.005      9.43        0.04        0.16\n",
      "ENSG00000185989.10  0.03       1.03      0.02  1.27   0.20      2.30       -0.02        0.08\n",
      "ENSG00000181631.6  -0.08       0.92      0.02 -3.61 <0.005     11.67       -0.12       -0.04\n",
      "ENSG00000110799.13 -0.01       0.99      0.02 -0.42   0.68      0.57       -0.05        0.04\n",
      "ENSG00000197442.9  -0.06       0.94      0.02 -2.63   0.01      6.87       -0.11       -0.02\n",
      "ENSG00000171509.15 -0.04       0.96      0.01 -4.27 <0.005     15.62       -0.06       -0.02\n",
      "ENSG00000162409.10 -0.01       0.99      0.01 -1.16   0.24      2.03       -0.03        0.01\n",
      "ENSG00000050555.17  0.01       1.01      0.01  0.42   0.67      0.57       -0.02        0.03\n",
      "ENSG00000137809.16 -0.00       1.00      0.02 -0.16   0.87      0.20       -0.04        0.03\n",
      "ENSG00000008517.16 -0.03       0.97      0.02 -1.46   0.14      2.80       -0.06        0.01\n",
      "ENSG00000116032.5   0.00       1.00      0.01  0.30   0.77      0.39       -0.02        0.02\n",
      "ENSG00000114812.12  0.01       1.01      0.01  0.75   0.45      1.14       -0.02        0.04\n",
      "ENSG00000113594.9  -0.05       0.96      0.02 -2.74   0.01      7.35       -0.08       -0.01\n",
      "ENSG00000124762.13 -0.02       0.98      0.02 -1.13   0.26      1.95       -0.06        0.02\n",
      "ENSG00000173210.19  0.04       1.04      0.02  2.53   0.01      6.45        0.01        0.07\n",
      "ENSG00000005844.17  0.18       1.20      0.03  5.62 <0.005     25.64        0.12        0.24\n",
      "ENSG00000048052.21 -0.02       0.98      0.02 -1.06   0.29      1.80       -0.05        0.01\n",
      "ENSG00000167034.9  -0.04       0.96      0.01 -3.30 <0.005      9.99       -0.06       -0.02\n",
      "ENSG00000213937.3   0.01       1.01      0.01  1.19   0.23      2.10       -0.01        0.03\n",
      "ENSG00000145623.12  0.06       1.06      0.02  2.67   0.01      7.02        0.02        0.10\n",
      "ENSG00000185033.14 -0.00       1.00      0.03 -0.06   0.95      0.07       -0.05        0.05\n",
      "ENSG00000143995.19  0.03       1.03      0.02  1.80   0.07      3.79       -0.00        0.06\n",
      "ENSG00000158769.17  0.10       1.11      0.03  3.81 <0.005     12.80        0.05        0.15\n",
      "ENSG00000163501.6  -0.01       0.99      0.01 -0.95   0.34      1.54       -0.02        0.01\n",
      "ENSG00000176014.12  0.01       1.01      0.03  0.41   0.68      0.56       -0.04        0.06\n",
      "ENSG00000197921.5  -0.02       0.98      0.01 -2.68   0.01      7.10       -0.04       -0.01\n",
      "ENSG00000170289.12  0.02       1.02      0.01  3.03 <0.005      8.69        0.01        0.04\n",
      "ENSG00000181847.11 -0.07       0.94      0.02 -3.18 <0.005      9.39       -0.11       -0.03\n",
      "ENSG00000152785.6   0.02       1.02      0.01  2.67   0.01      7.04        0.00        0.03\n",
      "ENSG00000171051.8   0.01       1.01      0.02  0.47   0.64      0.65       -0.03        0.05\n",
      "ENSG00000070018.8  -0.09       0.91      0.03 -3.50 <0.005     11.08       -0.15       -0.04\n",
      "ENSG00000168907.13 -0.03       0.97      0.01 -3.24 <0.005      9.73       -0.04       -0.01\n",
      "ENSG00000147010.17  0.04       1.04      0.03  1.70   0.09      3.47       -0.01        0.09\n",
      "ENSG00000164086.9  -0.03       0.97      0.03 -1.01   0.31      1.68       -0.09        0.03\n",
      "ENSG00000070388.11 -0.00       1.00      0.01 -0.40   0.69      0.54       -0.02        0.01\n",
      "ENSG00000005073.5  -0.00       1.00      0.01 -0.18   0.85      0.23       -0.01        0.01\n",
      "ENSG00000164120.13  0.03       1.03      0.01  2.95 <0.005      8.29        0.01        0.04\n",
      "ENSG00000168135.4   0.00       1.00      0.01  0.18   0.85      0.23       -0.01        0.01\n",
      "ENSG00000163873.9  -0.00       1.00      0.01 -0.31   0.75      0.41       -0.02        0.01\n",
      "ENSG00000188389.10  0.01       1.01      0.02  0.72   0.47      1.08       -0.02        0.05\n",
      "ENSG00000109321.10  0.03       1.03      0.01  3.41 <0.005     10.60        0.01        0.05\n",
      "ENSG00000038945.14  0.04       1.04      0.02  1.84   0.07      3.91       -0.00        0.08\n",
      "ENSG00000136695.14 -0.02       0.98      0.01 -3.28 <0.005      9.91       -0.03       -0.01\n",
      "ENSG00000121361.3   0.03       1.03      0.02  1.51   0.13      2.94       -0.01        0.06\n",
      "ENSG00000158473.6  -0.01       0.99      0.02 -0.51   0.61      0.71       -0.05        0.03\n",
      "ENSG00000137841.11  0.01       1.01      0.03  0.42   0.67      0.57       -0.04        0.06\n",
      "ENSG00000116701.14  0.00       1.00      0.03  0.13   0.90      0.16       -0.05        0.05\n",
      "ENSG00000114554.11 -0.01       0.99      0.03 -0.31   0.76      0.40       -0.06        0.05\n",
      "ENSG00000196787.3  -0.02       0.98      0.01 -1.65   0.10      3.33       -0.05        0.00\n",
      "ENSG00000100448.3  -0.03       0.97      0.01 -4.82 <0.005     19.40       -0.04       -0.02\n",
      "ENSG00000037280.15 -0.05       0.95      0.02 -2.10   0.04      4.81       -0.10       -0.00\n",
      "ENSG00000272196.2   0.01       1.01      0.01  1.17   0.24      2.06       -0.01        0.03\n",
      "ENSG00000077264.14 -0.00       1.00      0.01 -0.29   0.77      0.37       -0.02        0.02\n",
      "ENSG00000171777.15  0.06       1.06      0.03  2.25   0.02      5.34        0.01        0.11\n",
      "ENSG00000004468.12 -0.05       0.95      0.02 -3.27 <0.005      9.84       -0.08       -0.02\n",
      "ENSG00000139567.12 -0.06       0.94      0.03 -2.52   0.01      6.42       -0.11       -0.01\n",
      "ENSG00000149782.11 -0.05       0.95      0.04 -1.30   0.19      2.37       -0.12        0.02\n",
      "ENSG00000164867.10 -0.01       0.99      0.02 -0.48   0.63      0.66       -0.04        0.03\n",
      "ENSG00000089250.18  0.02       1.02      0.01  3.14 <0.005      9.21        0.01        0.04\n",
      "ENSG00000142173.14 -0.05       0.95      0.03 -1.39   0.17      2.60       -0.11        0.02\n",
      "ENSG00000275152.4   0.01       1.01      0.01  1.18   0.24      2.08       -0.01        0.02\n",
      "ENSG00000142185.16  0.02       1.02      0.02  1.04   0.30      1.74       -0.02        0.05\n",
      "ENSG00000108797.11  0.06       1.07      0.02  2.77   0.01      7.47        0.02        0.11\n",
      "ENSG00000101333.16 -0.04       0.96      0.01 -3.66 <0.005     11.97       -0.06       -0.02\n",
      "ENSG00000110148.9  -0.00       1.00      0.01 -0.74   0.46      1.12       -0.02        0.01\n",
      "---\n",
      "Concordance = 0.73\n",
      "Log-likelihood ratio test = 1975.34 on 149 df, -log2(p)=inf\n"
     ]
    }
   ],
   "source": [
    "cph = CoxPHFitter()\n",
    "cph.fit(non_brca_data, duration_col='OS.time', event_col='OS', show_progress=True)\n",
    "\n",
    "cph.print_summary()  # access the results using cph.summary"
   ]
  }
 ],
 "metadata": {
  "kernelspec": {
   "display_name": "Python 3",
   "language": "python",
   "name": "python3"
  },
  "language_info": {
   "codemirror_mode": {
    "name": "ipython",
    "version": 3
   },
   "file_extension": ".py",
   "mimetype": "text/x-python",
   "name": "python",
   "nbconvert_exporter": "python",
   "pygments_lexer": "ipython3",
   "version": "3.6.5"
  }
 },
 "nbformat": 4,
 "nbformat_minor": 2
}
