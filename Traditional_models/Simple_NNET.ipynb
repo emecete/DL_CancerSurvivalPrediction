{
 "cells": [
  {
   "cell_type": "code",
   "execution_count": 1,
   "metadata": {},
   "outputs": [],
   "source": [
    "import pandas as pd\n",
    "import numpy as np"
   ]
  },
  {
   "cell_type": "markdown",
   "metadata": {},
   "source": [
    "# Data loading"
   ]
  },
  {
   "cell_type": "markdown",
   "metadata": {},
   "source": [
    "##### Expression profiles"
   ]
  },
  {
   "cell_type": "code",
   "execution_count": 2,
   "metadata": {
    "scrolled": true
   },
   "outputs": [
    {
     "name": "stderr",
     "output_type": "stream",
     "text": [
      "Using TensorFlow backend.\n"
     ]
    },
    {
     "name": "stdout",
     "output_type": "stream",
     "text": [
      "CPU times: user 24.9 s, sys: 171 ms, total: 25.1 s\n",
      "Wall time: 25.1 s\n"
     ]
    }
   ],
   "source": [
    "%%time\n",
    "\n",
    "# DL with Python - François Chollet (pp. 162-163)\n",
    "from PIL import Image\n",
    "from keras.preprocessing import image\n",
    "import glob\n",
    "\n",
    "path = '../data/COMMON_GENES_CHR_LOCUS_TREEMAPS/'\n",
    "filelist = glob.glob(path + '*.png')\n",
    "\n",
    "brca_images = dict()\n",
    "non_brca_images = dict()\n",
    "w, h = (image.load_img(filelist[1]).size)\n",
    "\n",
    "basewidth = 100\n",
    "wpercent = (basewidth/float(w))\n",
    "hsize = int((float(h)*float(wpercent)))\n",
    "\n",
    "i = 0 \n",
    "for filename in filelist:\n",
    "    sample = filename.split(\" \")[1]\n",
    "    if(True):\n",
    "        if('NON' in sample):\n",
    "            non_brca_images[sample.split(\"_\")[0].replace('.','-')] = image.load_img(filename).crop((11, 11, w-13, h-13)).resize((basewidth,hsize), Image.ANTIALIAS).convert('L')\n",
    "        else:\n",
    "            brca_images[sample.split(\"_\")[0].replace('.','-')] = image.load_img(filename).crop((11, 11, w-13, h-13)).resize((basewidth,hsize), Image.ANTIALIAS).convert('L')"
   ]
  },
  {
   "cell_type": "raw",
   "metadata": {},
   "source": [
    "import matplotlib.pyplot as plt\n",
    "%matplotlib inline\n",
    "import numpy as np\n",
    "\n",
    "plt.subplots(4,4,figsize=(15,15))\n",
    "# plot\n",
    "for i in range(0,8):\n",
    "    key_img = list(non_brca_images.keys())[np.random.randint(len(non_brca_images),size= 1)[0]]\n",
    "    image = non_brca_images[key_img]\n",
    "    plt.subplot(2,4,i+1)\n",
    "    plt.axis('off')\n",
    "    plt.title('NON-BRCA patient:\\n' + key_img, fontsize='xx-large')\n",
    "    plt.imshow(image)\n",
    "\n",
    "for i in range(4,8):\n",
    "    key_img = list(brca_images.keys())[np.random.randint(len(brca_images),size= 1)[0]]\n",
    "    image = brca_images[key_img]\n",
    "    plt.subplot(2,4,i+1)\n",
    "    plt.axis('off')\n",
    "    plt.title('BRCA patient:\\n' + key_img, fontsize='xx-large')\n",
    "    plt.imshow(image)\n",
    "    \n"
   ]
  },
  {
   "cell_type": "markdown",
   "metadata": {},
   "source": [
    "##### Clinical data"
   ]
  },
  {
   "cell_type": "code",
   "execution_count": 3,
   "metadata": {},
   "outputs": [],
   "source": [
    "brca_clinical = pd.read_hdf('../data/TCGA_data.h5', key='brca_clinical')\n",
    "non_brca_clinical = pd.read_hdf('../data/TCGA_data.h5', key='non_brca_clinical')"
   ]
  },
  {
   "cell_type": "code",
   "execution_count": 4,
   "metadata": {},
   "outputs": [],
   "source": [
    "# Deleting samples with 'NaN's in OS-columns \n",
    "\n",
    "## non_brca\n",
    "non_brca_clinical['OS.time'] = non_brca_clinical['OS.time'].map(lambda x: np.nan if x == 'NaN' else x)\n",
    "non_brca_clinical['OS'] = non_brca_clinical['OS'].map(lambda x: np.nan if x == 'NaN' else x)\n",
    "non_brca_clinical.dropna(subset=['OS.time', 'OS'], inplace=True)\n",
    "non_brca_clinical['OS.time'] = non_brca_clinical['OS.time'].astype(float)\n",
    "non_brca_clinical['OS'] = non_brca_clinical['OS'].astype(float)\n",
    "\n",
    "## brca\n",
    "brca_clinical['OS.time'] = brca_clinical['OS.time'].map(lambda x: np.nan if x == 'NaN' else x)\n",
    "brca_clinical['OS'] = brca_clinical['OS'].map(lambda x: np.nan if x == 'NaN' else x)\n",
    "brca_clinical.dropna(subset=['OS.time', 'OS'], inplace=True)\n",
    "brca_clinical['OS.time'] = brca_clinical['OS.time'].astype(float)\n",
    "brca_clinical['OS'] = brca_clinical['OS'].astype(float)"
   ]
  },
  {
   "cell_type": "code",
   "execution_count": 5,
   "metadata": {},
   "outputs": [
    {
     "name": "stdout",
     "output_type": "stream",
     "text": [
      "There are 1196 brca clinical info and 9224 non-brca clinical info\n"
     ]
    }
   ],
   "source": [
    "print('There are {} brca clinical info and {} non-brca clinical info'.format(len(brca_clinical), len(non_brca_clinical)))"
   ]
  },
  {
   "cell_type": "markdown",
   "metadata": {},
   "source": [
    "## Creating X and Y numpy-arrays\n",
    "\n",
    "Note that there are differences between patients with survival info and with images; only patients in both datasets are mantained"
   ]
  },
  {
   "cell_type": "code",
   "execution_count": 6,
   "metadata": {},
   "outputs": [],
   "source": [
    "common_pat_brca = set(brca_images.keys()).intersection(brca_clinical.index)"
   ]
  },
  {
   "cell_type": "code",
   "execution_count": 7,
   "metadata": {},
   "outputs": [
    {
     "data": {
      "text/plain": [
       "1196"
      ]
     },
     "execution_count": 7,
     "metadata": {},
     "output_type": "execute_result"
    }
   ],
   "source": [
    "len(common_pat_brca)"
   ]
  },
  {
   "cell_type": "markdown",
   "metadata": {},
   "source": [
    "#### Deleting images and OS data from not common patients"
   ]
  },
  {
   "cell_type": "code",
   "execution_count": 8,
   "metadata": {},
   "outputs": [],
   "source": [
    "# Mantaining brca patients with both X and Y available data\n",
    "brca_clinical = brca_clinical.loc[common_pat_brca]\n",
    "\n",
    "for k in set(list(brca_images.keys())).difference(common_pat_brca):\n",
    "    del brca_images[k]"
   ]
  },
  {
   "cell_type": "code",
   "execution_count": 9,
   "metadata": {},
   "outputs": [
    {
     "data": {
      "text/plain": [
       "1196"
      ]
     },
     "execution_count": 9,
     "metadata": {},
     "output_type": "execute_result"
    }
   ],
   "source": [
    "len(brca_images)"
   ]
  },
  {
   "cell_type": "code",
   "execution_count": 10,
   "metadata": {},
   "outputs": [
    {
     "data": {
      "text/plain": [
       "1196"
      ]
     },
     "execution_count": 10,
     "metadata": {},
     "output_type": "execute_result"
    }
   ],
   "source": [
    "len(brca_clinical)"
   ]
  },
  {
   "cell_type": "code",
   "execution_count": 11,
   "metadata": {},
   "outputs": [],
   "source": [
    "common_pat_non_brca = set(non_brca_images.keys()).intersection(non_brca_clinical.index)"
   ]
  },
  {
   "cell_type": "code",
   "execution_count": 12,
   "metadata": {},
   "outputs": [
    {
     "data": {
      "text/plain": [
       "9224"
      ]
     },
     "execution_count": 12,
     "metadata": {},
     "output_type": "execute_result"
    }
   ],
   "source": [
    "len(common_pat_non_brca)"
   ]
  },
  {
   "cell_type": "code",
   "execution_count": 13,
   "metadata": {},
   "outputs": [],
   "source": [
    "# Mantaining brca patients with both X and Y available data\n",
    "non_brca_clinical = non_brca_clinical.loc[common_pat_non_brca]\n",
    "\n",
    "for k in set(list(non_brca_images.keys())).difference(common_pat_non_brca):\n",
    "    del non_brca_images[k]"
   ]
  },
  {
   "cell_type": "code",
   "execution_count": 14,
   "metadata": {},
   "outputs": [
    {
     "data": {
      "text/plain": [
       "9224"
      ]
     },
     "execution_count": 14,
     "metadata": {},
     "output_type": "execute_result"
    }
   ],
   "source": [
    "len(non_brca_images)"
   ]
  },
  {
   "cell_type": "code",
   "execution_count": 15,
   "metadata": {},
   "outputs": [
    {
     "data": {
      "text/plain": [
       "9224"
      ]
     },
     "execution_count": 15,
     "metadata": {},
     "output_type": "execute_result"
    }
   ],
   "source": [
    "len(non_brca_clinical)"
   ]
  },
  {
   "cell_type": "markdown",
   "metadata": {},
   "source": [
    "#### From OS to Survival"
   ]
  },
  {
   "cell_type": "code",
   "execution_count": 16,
   "metadata": {},
   "outputs": [],
   "source": [
    "# Create 39 equally spaced intervals for follow-up time, from 0 to 5 years:\n",
    "breaks = np.arange(0.,365.*5,365./8)\n",
    "n_intervals = len(breaks)-1\n",
    "timegap = breaks[1:] - breaks[:-1]"
   ]
  },
  {
   "cell_type": "code",
   "execution_count": 17,
   "metadata": {},
   "outputs": [],
   "source": [
    "import nnet_survival\n",
    "non_brca_y = nnet_survival.make_surv_array(non_brca_clinical['OS.time'],\n",
    "                             non_brca_clinical['OS'],\n",
    "                             breaks)\n",
    "brca_y = nnet_survival.make_surv_array(brca_clinical['OS.time'],\n",
    "                             brca_clinical['OS'],\n",
    "                             breaks)"
   ]
  },
  {
   "cell_type": "markdown",
   "metadata": {},
   "source": [
    "#### From PIL.Images to Numpy"
   ]
  },
  {
   "cell_type": "code",
   "execution_count": 18,
   "metadata": {},
   "outputs": [
    {
     "name": "stdout",
     "output_type": "stream",
     "text": [
      "CPU times: user 211 ms, sys: 148 ms, total: 359 ms\n",
      "Wall time: 358 ms\n"
     ]
    }
   ],
   "source": [
    "%%time\n",
    "\n",
    "import numpy as np\n",
    "from keras.preprocessing import image\n",
    "\n",
    "samples = list(non_brca_clinical.index)\n",
    "\n",
    "X_non_brca = np.empty((len(samples), 10000))\n",
    "\n",
    "for i in range(0, len(samples)):\n",
    "    \n",
    "    X_non_brca[i] = image.img_to_array(non_brca_images[samples[i]]).reshape(10000)"
   ]
  },
  {
   "cell_type": "code",
   "execution_count": 19,
   "metadata": {},
   "outputs": [
    {
     "name": "stdout",
     "output_type": "stream",
     "text": [
      "CPU times: user 29.1 ms, sys: 20 ms, total: 49.2 ms\n",
      "Wall time: 48.3 ms\n"
     ]
    }
   ],
   "source": [
    "%%time\n",
    "\n",
    "import numpy as np\n",
    "from keras.preprocessing import image\n",
    "\n",
    "samples = list(brca_clinical.index)\n",
    "\n",
    "X_brca = np.empty((len(samples), 100*100))\n",
    "\n",
    "for i in range(0, len(samples)):\n",
    "    X_brca[i] = image.img_to_array(brca_images[samples[i]]).reshape(10000)"
   ]
  },
  {
   "cell_type": "code",
   "execution_count": 20,
   "metadata": {
    "scrolled": false
   },
   "outputs": [
    {
     "name": "stdout",
     "output_type": "stream",
     "text": [
      "BRCA data shapes: \n",
      " X: (1196, 10000) \t Y: (1196, 78)\n"
     ]
    }
   ],
   "source": [
    "print(\"BRCA data shapes: \\n X: {} \\t Y: {}\".format(X_brca.shape, brca_y.shape))"
   ]
  },
  {
   "cell_type": "code",
   "execution_count": 21,
   "metadata": {},
   "outputs": [
    {
     "name": "stdout",
     "output_type": "stream",
     "text": [
      "Non-BRCA data shapes: \n",
      " X: (9224, 10000) \t Y: (9224, 78)\n"
     ]
    }
   ],
   "source": [
    "print(\"Non-BRCA data shapes: \\n X: {} \\t Y: {}\".format(X_non_brca.shape, non_brca_y.shape))"
   ]
  },
  {
   "cell_type": "code",
   "execution_count": 22,
   "metadata": {},
   "outputs": [],
   "source": [
    "# to save memory\n",
    "del non_brca_images\n",
    "del brca_images"
   ]
  },
  {
   "cell_type": "markdown",
   "metadata": {},
   "source": [
    "# Training models"
   ]
  },
  {
   "cell_type": "code",
   "execution_count": 25,
   "metadata": {},
   "outputs": [],
   "source": [
    "from keras.models import Sequential\n",
    "from keras.layers import Dense\n",
    "import tensorflow as tf\n",
    "import keras.backend as K\n",
    "from keras.optimizers import SGD\n",
    "import numpy\n",
    "# fix random seed for reproducibility\n",
    "numpy.random.seed(7)"
   ]
  },
  {
   "cell_type": "code",
   "execution_count": 26,
   "metadata": {},
   "outputs": [],
   "source": [
    "# TRAINING MODELS\n",
    "\n",
    "import keras.backend as K\n",
    "from keras.models import Sequential\n",
    "from keras.layers import Input, Dense, Conv1D, MaxPool1D, Activation, Dropout, Flatten\n",
    "from keras import regularizers, optimizers\n",
    "from keras.layers.normalization import BatchNormalization\n",
    "from keras.callbacks import EarlyStopping\n",
    "import warnings\n",
    "from keras.regularizers import l1\n",
    "from keras.optimizers import Adam\n",
    "import tensorflow as tf\n",
    "\n",
    "# Using C-index as evaluation metric (using a custom callback)\n",
    "\n",
    "from lifelines.utils import concordance_index\n",
    "from keras.callbacks import Callback\n",
    "\n",
    "class CIndex(Callback):\n",
    "    \"\"\"\n",
    "    Callback that computes the C-index metric both on training and test data after each epoch.\n",
    "    \n",
    "    Arguments:\n",
    "        train_x: Numpy array containing the training dataset.\n",
    "        train_time: Numpy array with survival time for training dataset.\n",
    "        train_event: Numpy array with survival event for training dataset.\n",
    "        val_x: Numpy array containing the test dataset.\n",
    "        val_time: Numpy array with survival time for test dataset.\n",
    "        val_event: Numpy array with survival event for test dataset.\n",
    "        filepath: path to save the model.\n",
    "        years: number of years to compute c-index\n",
    "        patience: patience for early-stop training\n",
    "    \"\"\"\n",
    "    \n",
    "    def __init__(self, train_x, train_time, train_event, val_x, val_time, val_event, filepath, years=2, patience=5):\n",
    "        super(Callback, self).__init__()\n",
    "        self.X_tr = train_x\n",
    "        self.time_tr = train_time\n",
    "        self.event_tr = train_event\n",
    "        self.X_val = val_x\n",
    "        self.time_val = val_time\n",
    "        self.event_val = val_event\n",
    "        self.years = years\n",
    "        self.patience = patience\n",
    "        self.best = 0.0\n",
    "        self.wait = 0  #counter for patience\n",
    "        self.best_rounds = 1\n",
    "        self.counter = 0\n",
    "        self.filepath = filepath\n",
    "        \n",
    "    def on_train_begin(self, logs={}):\n",
    "        self.c_index_dict = {'c-index': [], 'val_c-index': []}\n",
    "\n",
    "    def on_epoch_end(self, epoch, logs={}):\n",
    "        self.counter +=1\n",
    "\n",
    "        y_tr=self.model.predict_proba(self.X_tr,verbose=0)\n",
    "        yr_surv=np.cumprod(y_tr[:,0:np.nonzero(breaks>365*self.years)[0][0]], axis=1)[:,-1]\n",
    "        c_index_tr = concordance_index(self.time_tr, yr_surv, self.event_tr)\n",
    "        y_val=self.model.predict_proba(self.X_val,verbose=0)\n",
    "        yr_surv_val=np.cumprod(y_val[:,0:np.nonzero(breaks>365*self.years)[0][0]], axis=1)[:,-1]\n",
    "        c_index_val = concordance_index(self.time_val, yr_surv_val, self.event_val)\n",
    "\n",
    "        #print('\\tc-index: %s - val_c-index: %s' % (str(round(c_index_tr, 4)), str(round(c_index_val, 4))))\n",
    "        \n",
    "        if (c_index_val > self.best):\n",
    "            self.c_index_dict['c-index'].append(c_index_tr)\n",
    "            self.c_index_dict['val_c-index'].append(c_index_val)\n",
    "\n",
    "            self.best = c_index_val\n",
    "            self.best_rounds = self.counter\n",
    "            self.wait = 0\n",
    "            self.model.save_weights(self.filepath, overwrite=True)\n",
    "        else:\n",
    "            if self.wait >= self.patience: #no more patience, retrieve best model\n",
    "                self.model.stop_training = True\n",
    "                print('Best number of rounds: %d \\nValidation C-Index: %f \\n' % (self.best_rounds, self.best))\n",
    "                self.model.load_weights(self.filepath)\n",
    "            self.wait += 1"
   ]
  },
  {
   "cell_type": "code",
   "execution_count": 27,
   "metadata": {},
   "outputs": [],
   "source": [
    "config = tf.ConfigProto()\n",
    "config.gpu_options.allow_growth = True\n",
    "config.gpu_options.per_process_gpu_memory_fraction = 0.4\n",
    "K.set_session(tf.Session(config=config))"
   ]
  },
  {
   "cell_type": "code",
   "execution_count": 32,
   "metadata": {},
   "outputs": [],
   "source": [
    "# create model\n",
    "model = Sequential()\n",
    "model.add(Dense(702, input_dim=X_brca.shape[1], activation='relu'))\n",
    "model.add(Dense(n_intervals, activation='sigmoid'))"
   ]
  },
  {
   "cell_type": "code",
   "execution_count": 29,
   "metadata": {
    "scrolled": true
   },
   "outputs": [
    {
     "name": "stdout",
     "output_type": "stream",
     "text": [
      "_________________________________________________________________\n",
      "Layer (type)                 Output Shape              Param #   \n",
      "=================================================================\n",
      "dense_1 (Dense)              (None, 702)               7020702   \n",
      "_________________________________________________________________\n",
      "dense_2 (Dense)              (None, 200)               140600    \n",
      "_________________________________________________________________\n",
      "dense_3 (Dense)              (None, 39)                7839      \n",
      "=================================================================\n",
      "Total params: 7,169,141\n",
      "Trainable params: 7,169,141\n",
      "Non-trainable params: 0\n",
      "_________________________________________________________________\n"
     ]
    }
   ],
   "source": [
    "model.summary()"
   ]
  },
  {
   "cell_type": "code",
   "execution_count": 33,
   "metadata": {},
   "outputs": [],
   "source": [
    "# BRCA\n",
    "# Split dataset intor train and test\n",
    "from sklearn.model_selection import train_test_split\n",
    "\n",
    "X_brca_train, X_brca_test, y_brca_train, y_brca_test, train_index, test_index  = train_test_split(X_brca, brca_y, np.arange(len(X_brca)), test_size=0.2, random_state=42)\n",
    "X_brca_train, X_brca_val, y_brca_train, y_brca_val, train_index, val_index = train_test_split(X_brca_train, y_brca_train, train_index, test_size=0.2, random_state=44)"
   ]
  },
  {
   "cell_type": "code",
   "execution_count": 35,
   "metadata": {},
   "outputs": [
    {
     "name": "stdout",
     "output_type": "stream",
     "text": [
      "Train on 764 samples, validate on 192 samples\n",
      "Epoch 1/50\n",
      "764/764 [==============================] - 0s 188us/step - loss: 146.2232 - val_loss: 137.4236\n",
      "Epoch 2/50\n",
      "764/764 [==============================] - 0s 54us/step - loss: 146.2232 - val_loss: 137.4236\n",
      "Epoch 3/50\n",
      "764/764 [==============================] - 0s 65us/step - loss: 146.2232 - val_loss: 137.4236\n",
      "Epoch 4/50\n",
      "764/764 [==============================] - 0s 58us/step - loss: 146.2232 - val_loss: 137.4236\n",
      "Epoch 5/50\n",
      "764/764 [==============================] - 0s 59us/step - loss: 146.2232 - val_loss: 137.4236\n",
      "Epoch 6/50\n",
      "764/764 [==============================] - 0s 58us/step - loss: 146.2232 - val_loss: 137.4236\n",
      "Epoch 7/50\n",
      "764/764 [==============================] - 0s 58us/step - loss: 146.2232 - val_loss: 137.4236\n",
      "Best number of rounds: 1 \n",
      "Validation C-Index: 0.500000 \n",
      "\n",
      "0.5\n"
     ]
    }
   ],
   "source": [
    "optimizer = SGD(lr=0.0001)\n",
    "\n",
    "model.compile(loss=nnet_survival.surv_likelihood(n_intervals), optimizer=optimizer)\n",
    "\n",
    "hist_c_index = CIndex(X_brca_train,\n",
    "                    brca_clinical.iloc[train_index]['OS.time'],\n",
    "                    brca_clinical.iloc[train_index]['OS'],\n",
    "                    X_brca_val,\n",
    "                    brca_clinical.iloc[val_index]['OS.time'],\n",
    "                    brca_clinical.iloc[val_index]['OS'],\n",
    "                    filepath = 'keras-models/brca_simple_nnet.h5')\n",
    "\n",
    "callbacks = [hist_c_index]   \n",
    "\n",
    "\n",
    "model.fit(X_brca_train, \n",
    "          y_brca_train, \n",
    "          batch_size=128, \n",
    "          epochs=50, \n",
    "          validation_data = [X_brca_val, y_brca_val],\n",
    "          callbacks=callbacks)\n",
    "\n",
    "predictions = model.predict_proba(X_brca_test,verbose=0)\n",
    "twoyr_surv=np.cumprod(predictions[:,0:np.nonzero(breaks>365*2)[0][0]], axis=1)[:,-1]\n",
    "score = concordance_index(brca_clinical.iloc[test_index]['OS.time'], twoyr_surv, brca_clinical.iloc[test_index]['OS'])\n",
    "\n",
    "print(score)"
   ]
  },
  {
   "cell_type": "code",
   "execution_count": 38,
   "metadata": {},
   "outputs": [
    {
     "data": {
      "text/plain": [
       "(39,)"
      ]
     },
     "execution_count": 38,
     "metadata": {},
     "output_type": "execute_result"
    }
   ],
   "source": [
    "predictions[0].shape"
   ]
  }
 ],
 "metadata": {
  "kernelspec": {
   "display_name": "Python 3",
   "language": "python",
   "name": "python3"
  },
  "language_info": {
   "codemirror_mode": {
    "name": "ipython",
    "version": 3
   },
   "file_extension": ".py",
   "mimetype": "text/x-python",
   "name": "python",
   "nbconvert_exporter": "python",
   "pygments_lexer": "ipython3",
   "version": "3.6.5"
  }
 },
 "nbformat": 4,
 "nbformat_minor": 2
}
