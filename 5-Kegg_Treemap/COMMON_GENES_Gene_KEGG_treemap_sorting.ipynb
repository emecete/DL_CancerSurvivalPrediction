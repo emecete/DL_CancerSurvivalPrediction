{
 "cells": [
  {
   "cell_type": "markdown",
   "metadata": {},
   "source": [
    "# Gene sorting by KEGG functional annotations (TreeMap)\n",
    "This notebook is based on the paper *OmicsMapNet: Transforming omics data to take advantage of Deep Convolutional Neural Network for discovery*, whose authors are *Shiyong Ma, Zhen Zhang* (https://arxiv.org/ftp/arxiv/papers/1804/1804.05283.pdf)\n",
    "- Paper summary: \n",
    "Their aim was to rearrange high-dimensional omics data as 2-dimensional images, and train a Keras-CNN with them. For that, they used KEGG database which provides functional anotation of genes. Specifically, KEGG BRITE captures 'the functional hierarchies of biological objects'. And based on this hierarchy, each omic vector was shaped as an image using a treemap."
   ]
  },
  {
   "cell_type": "code",
   "execution_count": 1,
   "metadata": {},
   "outputs": [],
   "source": [
    "#libraries\n",
    "import pandas as pd\n",
    "import requests\n",
    "import numpy as np\n",
    "import matplotlib.pyplot as plt\n",
    "import squarify "
   ]
  },
  {
   "cell_type": "markdown",
   "metadata": {},
   "source": [
    "###  KEGG and TCGA data loading\n",
    "\n",
    "- Data coming from KEGG database is fetched on 'KEGG_Data_obtaining.ipynb' notebook\n",
    "- Data coming from TCGA database is fetched on 'TCGA_Data_obtaining.ipynb' notebook"
   ]
  },
  {
   "cell_type": "code",
   "execution_count": null,
   "metadata": {},
   "outputs": [],
   "source": [
    "# KEGG\n",
    "hsa = pd.read_csv('../data/KEGG/KEGG_gene_hsa.csv', sep='\\t'  , engine='python', header=None, index_col=0)\n",
    "hsa_brite = pd.read_csv('../data/KEGG/KEGG_hsa_brite.csv', sep='\\t'  , engine='python', header=None)\n",
    "hsa_brite.columns = ['keggBriteId', 'keggId']\n",
    "brite = pd.read_csv('../data/KEGG/KEGG_brite.csv', engine='python', header=0, index_col=0)\n",
    "\n",
    "# TCGA\n",
    "\n",
    "# pp_df_gene_exp = pd.read_hdf(\"data/preprocessed1_expr.h5\", key='expression') # only selected features\n",
    "# df_gene_exp = pd.read_hdf(\"data/TCGA_data.h5\", key='both_gene_expression') # all\n",
    "\n",
    "brca_ex = pd.read_hdf(\"/mnt/ext/almacen/comun/Francis/almacen/DeepLearning-Bioinformatics/data/PanCancer/mad_filter_pancan_all_TCGA_20.h5\", key = \"brca\")\n",
    "non_brca_ex = pd.read_hdf(\"/mnt/ext/almacen/comun/Francis/almacen/DeepLearning-Bioinformatics/data/PanCancer/mad_filter_pancan_all_TCGA_20.h5\", key = \"non_brca\")"
   ]
  },
  {
   "cell_type": "raw",
   "metadata": {},
   "source": [
    "Deleting all brite rows not related with homo sapiens (hsa)"
   ]
  },
  {
   "cell_type": "code",
   "execution_count": null,
   "metadata": {},
   "outputs": [],
   "source": [
    "hsa_brite['keggBriteId'] = [br_id[7:] for br_id in hsa_brite['keggBriteId']]"
   ]
  },
  {
   "cell_type": "code",
   "execution_count": null,
   "metadata": {},
   "outputs": [],
   "source": [
    "brite_homosap_index = list(set(brite['keggBriteId']).intersection(set(hsa_brite['keggBriteId'])))"
   ]
  },
  {
   "cell_type": "code",
   "execution_count": null,
   "metadata": {},
   "outputs": [],
   "source": [
    "brite = brite.loc[brite['keggBriteId'].isin(brite_homosap_index)]"
   ]
  },
  {
   "cell_type": "raw",
   "metadata": {},
   "source": [
    "Get ensembl ids"
   ]
  },
  {
   "cell_type": "code",
   "execution_count": null,
   "metadata": {},
   "outputs": [],
   "source": [
    "ens_genes = brca_ex.columns"
   ]
  },
  {
   "cell_type": "code",
   "execution_count": null,
   "metadata": {},
   "outputs": [],
   "source": [
    "print(\"Initial number of genes: {}\".format(len(ens_genes)))"
   ]
  },
  {
   "cell_type": "code",
   "execution_count": null,
   "metadata": {},
   "outputs": [],
   "source": [
    "print(\"Total number of samples (patients): {}\".format(brca_ex.shape[0]+non_brca_ex.shape[0]))"
   ]
  },
  {
   "cell_type": "markdown",
   "metadata": {},
   "source": [
    "## MAPPING: From Ensembl Gene ID to KEGG BRITE functional annotation\n",
    "KEGG relates Hugo-gene-names to an internal id (KEGG id) that is useful to find out the corresponding KEGG BRITE value/s (hierarchical functional annotations) of each gene.\n",
    "Due to genes in TCGA are indexed by Ensembl-ids, it is needed mapping Ensembl-id to Hugo-gene-name"
   ]
  },
  {
   "cell_type": "markdown",
   "metadata": {},
   "source": [
    "All the code below (mappings) can be ignored until next section just loading 'gene_mapping' DataFrame, which contains mapping from Ensembl id to KEGG Brite"
   ]
  },
  {
   "cell_type": "code",
   "execution_count": null,
   "metadata": {},
   "outputs": [],
   "source": [
    "# Loading 'gene_mapping' DataFrame\n",
    "gene_mapping = pd.read_hdf('../data/KEGG/map_ens_kegg_brite.h5', key='map')"
   ]
  },
  {
   "cell_type": "markdown",
   "metadata": {},
   "source": [
    "### Mapping: Ensembl Gene ID to  Hugo Gene Name\n",
    "Down below, it is downloaded a table relating ensembl-ids and hugo-gene-names from this URL: https://raw.githubusercontent.com/jvivian/docker_tools/master/gencode_hugo_mapping/attrs.tsv"
   ]
  },
  {
   "cell_type": "code",
   "execution_count": null,
   "metadata": {},
   "outputs": [],
   "source": [
    "%%time\n",
    "\n",
    "url = 'https://raw.githubusercontent.com/jvivian/docker_tools/master/gencode_hugo_mapping/attrs.tsv'\n",
    "hugo_request = requests.get(url, allow_redirects=True)\n",
    "open('../data/hugo_ensembl.tsv', 'wb').write(hugo_request.content)\n",
    "del hugo_request"
   ]
  },
  {
   "cell_type": "code",
   "execution_count": null,
   "metadata": {},
   "outputs": [],
   "source": [
    "hugo_ens = pd.read_csv('../data/hugo_ensembl.tsv', sep='\\t', engine='python', index_col=0)"
   ]
  },
  {
   "cell_type": "code",
   "execution_count": null,
   "metadata": {},
   "outputs": [],
   "source": [
    "hugo_ens = hugo_ens[~hugo_ens.index.duplicated()]\n",
    "\n",
    "common_genes = hugo_ens.index.intersection(ens_genes)\n",
    "hugo_ens = hugo_ens.loc[common_genes, :]\n",
    "\n",
    "len(common_genes)"
   ]
  },
  {
   "cell_type": "code",
   "execution_count": null,
   "metadata": {
    "scrolled": true
   },
   "outputs": [],
   "source": [
    "hugo_ens"
   ]
  },
  {
   "cell_type": "code",
   "execution_count": null,
   "metadata": {},
   "outputs": [],
   "source": [
    "gene_mapping = pd.DataFrame(hugo_ens.loc[:,'geneName'])"
   ]
  },
  {
   "cell_type": "code",
   "execution_count": null,
   "metadata": {},
   "outputs": [],
   "source": [
    "gene_mapping['ensId'] = gene_mapping.index"
   ]
  },
  {
   "cell_type": "code",
   "execution_count": null,
   "metadata": {
    "scrolled": true
   },
   "outputs": [],
   "source": [
    "gene_mapping['geneName']"
   ]
  },
  {
   "cell_type": "markdown",
   "metadata": {},
   "source": [
    "### Mapping: Hugo Gene Name to KEGG gene id"
   ]
  },
  {
   "cell_type": "code",
   "execution_count": null,
   "metadata": {},
   "outputs": [],
   "source": [
    "hsa_hugo_dict = dict()\n",
    "for i in range(0, len(hsa)):\n",
    "    value = hsa.loc[hsa.index[i],1].split(\";\")[0].split(',')\n",
    "    if 'uncharacterized' not in value[0] and len(value[0])<20:\n",
    "        hsa_hugo_dict[hsa.index[i]] = value"
   ]
  },
  {
   "cell_type": "code",
   "execution_count": null,
   "metadata": {
    "scrolled": true
   },
   "outputs": [],
   "source": [
    "len(hsa_hugo_dict)"
   ]
  },
  {
   "cell_type": "code",
   "execution_count": null,
   "metadata": {},
   "outputs": [],
   "source": [
    "%%time\n",
    "hsa_hugo = pd.DataFrame(columns=['keggId','geneName'])\n",
    "i = 0\n",
    "for key, values in hsa_hugo_dict.items():\n",
    "    for ens in values:\n",
    "        hsa_hugo.loc[i] = [key, ens]\n",
    "        i+=1"
   ]
  },
  {
   "cell_type": "code",
   "execution_count": null,
   "metadata": {},
   "outputs": [],
   "source": [
    "hsa_hugo.shape"
   ]
  },
  {
   "cell_type": "code",
   "execution_count": null,
   "metadata": {},
   "outputs": [],
   "source": [
    "gene_mapping = pd.merge(gene_mapping, hsa_hugo, on='geneName')"
   ]
  },
  {
   "cell_type": "markdown",
   "metadata": {},
   "source": [
    "### Mapping: KEGG gene id to KEGG BRITE id"
   ]
  },
  {
   "cell_type": "code",
   "execution_count": null,
   "metadata": {
    "scrolled": true
   },
   "outputs": [],
   "source": [
    "gene_mapping"
   ]
  },
  {
   "cell_type": "code",
   "execution_count": null,
   "metadata": {
    "scrolled": false
   },
   "outputs": [],
   "source": [
    "len(set(hsa_brite['keggId'].value_counts().index).intersection(gene_mapping['keggId']))"
   ]
  },
  {
   "cell_type": "code",
   "execution_count": null,
   "metadata": {},
   "outputs": [],
   "source": [
    "gene_mapping = pd.merge(gene_mapping, hsa_brite, on='keggId')"
   ]
  },
  {
   "cell_type": "code",
   "execution_count": null,
   "metadata": {
    "scrolled": true
   },
   "outputs": [],
   "source": [
    "gene_mapping"
   ]
  },
  {
   "cell_type": "markdown",
   "metadata": {},
   "source": [
    "### Mapping: KEGG BRITE id to KEGG BRITE functional annotation"
   ]
  },
  {
   "cell_type": "code",
   "execution_count": null,
   "metadata": {},
   "outputs": [],
   "source": [
    "gene_mapping = pd.merge(gene_mapping, brite, on='keggBriteId')"
   ]
  },
  {
   "cell_type": "code",
   "execution_count": null,
   "metadata": {
    "scrolled": true
   },
   "outputs": [],
   "source": [
    "brite"
   ]
  },
  {
   "cell_type": "code",
   "execution_count": null,
   "metadata": {
    "scrolled": true
   },
   "outputs": [],
   "source": [
    "gene_mapping"
   ]
  },
  {
   "cell_type": "markdown",
   "metadata": {},
   "source": [
    "## Mapping: KEGG BRITE functional annotation to KEGG BRITE group of functional annotations"
   ]
  },
  {
   "cell_type": "markdown",
   "metadata": {},
   "source": [
    "### Mapping: exporting gene_mapping DataFrame"
   ]
  },
  {
   "cell_type": "code",
   "execution_count": null,
   "metadata": {},
   "outputs": [],
   "source": [
    "with pd.HDFStore('../data/KEGG/map_ens_kegg_brite.h5') as store:\n",
    "    store['map'] = gene_mapping"
   ]
  },
  {
   "cell_type": "markdown",
   "metadata": {},
   "source": [
    "# KEGG-TREEMAPs generation\n",
    "\n",
    "From genetic expression profiles data, along with the information obtained from KEGG database, treemap images are generated. This is done by using 'treemap' R package.\n",
    "\n",
    "A treemap is a rectangular displaying for hierarchical data visualization. \n",
    "\n",
    "In our case, all genes are represented as squares of size 1 and colored according to their expresion level. Genes are grouped and placed in the treemap according to each functional annotation subgroup (ie. 'RNA family' or 'Orthologs and modules') and functional annotation (ie. 'Translation factors' or 'Non-coding RNAs'). Inside of each hierarchy, genes are sorted by their mean for all samples."
   ]
  },
  {
   "cell_type": "code",
   "execution_count": null,
   "metadata": {},
   "outputs": [],
   "source": [
    "exp_to_tree_map = pd.concat([non_brca_ex, brca_ex]).T\n",
    "exp_to_tree_map['ensId'] = exp_to_tree_map.index\n",
    "exp_to_tree_map['tamPixel'] = np.ones(exp_to_tree_map.shape[0])\n",
    "exp_to_tree_map['order'] = pd.concat([non_brca_ex, brca_ex]).mean() # order genes in the map by mean expression level\n",
    "exp_to_tree_map = pd.merge(gene_mapping, exp_to_tree_map, on='ensId')"
   ]
  },
  {
   "cell_type": "code",
   "execution_count": null,
   "metadata": {},
   "outputs": [],
   "source": [
    "with open('genes_remaining.txt', 'w') as f:\n",
    "    f.write(str(set(exp_to_tree_map.ensId)))"
   ]
  },
  {
   "cell_type": "code",
   "execution_count": null,
   "metadata": {},
   "outputs": [],
   "source": [
    "len(set(exp_to_tree_map.ensId))"
   ]
  },
  {
   "cell_type": "code",
   "execution_count": null,
   "metadata": {},
   "outputs": [],
   "source": [
    "len((exp_to_tree_map.ensId))"
   ]
  },
  {
   "cell_type": "code",
   "execution_count": null,
   "metadata": {},
   "outputs": [],
   "source": [
    "import ast\n",
    "with open('../common_genes_1-5.txt','r') as f:\n",
    "   common_1_5 = ast.literal_eval(f.read())"
   ]
  },
  {
   "cell_type": "code",
   "execution_count": null,
   "metadata": {},
   "outputs": [],
   "source": [
    "exp_to_tree_map = exp_to_tree_map.loc[exp_to_tree_map['ensId'].isin(common_1_5)]"
   ]
  },
  {
   "cell_type": "code",
   "execution_count": null,
   "metadata": {},
   "outputs": [],
   "source": [
    "exp_to_tree_map.shape"
   ]
  },
  {
   "cell_type": "code",
   "execution_count": null,
   "metadata": {},
   "outputs": [],
   "source": [
    "len(set(exp_to_tree_map.ensId))"
   ]
  },
  {
   "cell_type": "code",
   "execution_count": null,
   "metadata": {},
   "outputs": [],
   "source": [
    "exp_to_tree_map.columns[9810]"
   ]
  },
  {
   "cell_type": "code",
   "execution_count": null,
   "metadata": {
    "scrolled": true
   },
   "outputs": [],
   "source": [
    "%%time\n",
    "exp_to_tree_map.to_csv('COMMON_GENES_exp_to_KEGG_tree_map.csv')"
   ]
  },
  {
   "cell_type": "code",
   "execution_count": 2,
   "metadata": {
    "scrolled": true
   },
   "outputs": [],
   "source": [
    "exp_to_tree_map = pd.read_csv('COMMON_GENES_exp_to_KEGG_tree_map.csv')"
   ]
  },
  {
   "cell_type": "code",
   "execution_count": 3,
   "metadata": {},
   "outputs": [
    {
     "data": {
      "text/plain": [
       "(3619, 10545)"
      ]
     },
     "execution_count": 3,
     "metadata": {},
     "output_type": "execute_result"
    }
   ],
   "source": [
    "exp_to_tree_map.shape"
   ]
  },
  {
   "cell_type": "code",
   "execution_count": 4,
   "metadata": {},
   "outputs": [
    {
     "data": {
      "text/plain": [
       "1492"
      ]
     },
     "execution_count": 4,
     "metadata": {},
     "output_type": "execute_result"
    }
   ],
   "source": [
    "len(set(exp_to_tree_map.ensId))"
   ]
  },
  {
   "cell_type": "code",
   "execution_count": 5,
   "metadata": {},
   "outputs": [
    {
     "data": {
      "text/plain": [
       "Genes and Proteins    3619\n",
       "Name: Functional Annotation Group, dtype: int64"
      ]
     },
     "execution_count": 5,
     "metadata": {},
     "output_type": "execute_result"
    }
   ],
   "source": [
    "exp_to_tree_map['Functional Annotation Group'].value_counts()"
   ]
  },
  {
   "cell_type": "code",
   "execution_count": 6,
   "metadata": {},
   "outputs": [],
   "source": [
    "subgroups = exp_to_tree_map['Functional Annotation Subgroup'].value_counts()"
   ]
  },
  {
   "cell_type": "code",
   "execution_count": 10,
   "metadata": {},
   "outputs": [
    {
     "data": {
      "text/plain": [
       "37"
      ]
     },
     "execution_count": 10,
     "metadata": {},
     "output_type": "execute_result"
    }
   ],
   "source": [
    "len(exp_to_tree_map['Functional Annotation'].value_counts())"
   ]
  },
  {
   "cell_type": "code",
   "execution_count": 7,
   "metadata": {},
   "outputs": [
    {
     "data": {
      "text/plain": [
       "Orthologs and modules                                 1492\n",
       "Protein families: signaling and cellular processes    1138\n",
       "Protein families: genetic information processing       516\n",
       "Protein families: metabolism                           473\n",
       "Name: Functional Annotation Subgroup, dtype: int64"
      ]
     },
     "execution_count": 7,
     "metadata": {},
     "output_type": "execute_result"
    }
   ],
   "source": [
    "subgroups"
   ]
  },
  {
   "cell_type": "code",
   "execution_count": 8,
   "metadata": {
    "scrolled": true
   },
   "outputs": [
    {
     "name": "stdout",
     "output_type": "stream",
     "text": [
      "ORTHOLOGS AND MODULES\n",
      "KEGG Orthology (KO)    1492\n",
      "Name: Functional Annotation, dtype: int64\n",
      "PROTEIN FAMILIES: SIGNALING AND CELLULAR PROCESSES\n",
      "Exosome                                                 195\n",
      "G protein-coupled receptors                             161\n",
      "Cytokines and growth factors                            158\n",
      "CD molecules                                            156\n",
      "Glycosaminoglycan binding proteins                       97\n",
      "Ion channels                                             79\n",
      "Cytokine receptors                                       73\n",
      "Cytoskeleton proteins                                    59\n",
      "Cell adhesion molecules                                  41\n",
      "Transporters                                             31\n",
      "GTP-binding proteins                                     24\n",
      "Lectins                                                  19\n",
      "Glycosylphosphatidylinositol (GPI)-anchored proteins     15\n",
      "Nuclear receptors                                        11\n",
      "Proteoglycans                                            10\n",
      "Pattern recognition receptors                             8\n",
      "Secretion system                                          1\n",
      "Name: Functional Annotation, dtype: int64\n",
      "PROTEIN FAMILIES: GENETIC INFORMATION PROCESSING\n",
      "Membrane trafficking                     166\n",
      "Chromosome and associated proteins       127\n",
      "Transcription factors                    103\n",
      "Messenger RNA biogenesis                  23\n",
      "Chaperones and folding catalysts          17\n",
      "DNA repair and recombination proteins     15\n",
      "Ubiquitin system                          13\n",
      "Mitochondrial biogenesis                  13\n",
      "DNA replication proteins                  13\n",
      "Spliceosome                                9\n",
      "Transcription machinery                    6\n",
      "Proteasome                                 6\n",
      "Ribosome biogenesis                        5\n",
      "Name: Functional Annotation, dtype: int64\n",
      "PROTEIN FAMILIES: METABOLISM\n",
      "Enzymes                                         282\n",
      "Protein kinases                                 110\n",
      "Protein phosphatases and associated proteins     47\n",
      "Peptidases                                       27\n",
      "Glycosyltransferases                              4\n",
      "Cytochrome P450                                   3\n",
      "Name: Functional Annotation, dtype: int64\n"
     ]
    }
   ],
   "source": [
    "for sub in subgroups.index:\n",
    "    print(sub.upper())\n",
    "    print(exp_to_tree_map[exp_to_tree_map['Functional Annotation Subgroup'] == sub]['Functional Annotation'].value_counts())"
   ]
  },
  {
   "cell_type": "code",
   "execution_count": 32,
   "metadata": {
    "scrolled": false
   },
   "outputs": [
    {
     "data": {
      "image/png": "[encoded data removed]",
      "text/plain": [
       "<Figure size 432x288 with 1 Axes>"
      ]
     },
     "metadata": {},
     "output_type": "display_data"
    },
    {
     "data": {
      "image/png": "[encoded data removed]",
      "text/plain": [
       "<Figure size 720x432 with 1 Axes>"
      ]
     },
     "metadata": {},
     "output_type": "display_data"
    },
    {
     "data": {
      "image/png": "[encoded data removed]",
      "text/plain": [
       "<Figure size 432x288 with 1 Axes>"
      ]
     },
     "metadata": {},
     "output_type": "display_data"
    },
    {
     "data": {
      "image/png": "[encoded data removed]",
      "text/plain": [
       "<Figure size 720x432 with 1 Axes>"
      ]
     },
     "metadata": {},
     "output_type": "display_data"
    },
    {
     "data": {
      "image/png": "[encoded data removed]",
      "text/plain": [
       "<Figure size 432x288 with 1 Axes>"
      ]
     },
     "metadata": {},
     "output_type": "display_data"
    },
    {
     "data": {
      "image/png": "[encoded data removed]",
      "text/plain": [
       "<Figure size 720x432 with 1 Axes>"
      ]
     },
     "metadata": {},
     "output_type": "display_data"
    },
    {
     "data": {
      "image/png": "[encoded data removed]",
      "text/plain": [
       "<Figure size 432x288 with 1 Axes>"
      ]
     },
     "metadata": {},
     "output_type": "display_data"
    },
    {
     "data": {
      "image/png": "[encoded data removed]",
      "text/plain": [
       "<Figure size 720x432 with 1 Axes>"
      ]
     },
     "metadata": {},
     "output_type": "display_data"
    }
   ],
   "source": [
    "import matplotlib.pyplot as plt\n",
    "\n",
    "%matplotlib inline\n",
    "\n",
    "# plot\n",
    "for i in range(0,4):\n",
    "    data = exp_to_tree_map[exp_to_tree_map['Functional Annotation Subgroup'] == subgroups.index[i]]['Functional Annotation'].value_counts()\n",
    "    names = data.index\n",
    "    values = data\n",
    "    plt.subplot(1,4,i+1)\n",
    "    fig = plt.figure(figsize=(10,6))\n",
    "    ax = fig.add_subplot(111)\n",
    "    yvals = range(len(names))\n",
    "    a = ax.barh(yvals, values, align='center', alpha=0.4)\n",
    "    plt.title(subgroups.index[i], fontsize='x-large')\n",
    "    plt.yticks(yvals,names, fontsize='xx-large')\n",
    "    plt.xticks(fontsize='x-large')\n",
    "    plt.tight_layout()\n",
    "\n",
    "    plt.show()"
   ]
  },
  {
   "cell_type": "code",
   "execution_count": null,
   "metadata": {},
   "outputs": [],
   "source": []
  },
  {
   "cell_type": "code",
   "execution_count": null,
   "metadata": {},
   "outputs": [],
   "source": [
    "import matplotlib.pyplot as plt\n",
    "\n",
    "\n",
    "py.offline.init_notebook_mode()\n",
    "\n",
    "names = myindexes\n",
    "\n",
    "values = mylist\n",
    "\n",
    "fig = plt.figure(figsize=(10,6))\n",
    "ax = fig.add_subplot(111)\n",
    "yvals = range(len(names))\n",
    "ax.barh(yvals, values, align='center', alpha=0.4)\n",
    "plt.yticks(yvals,names)\n",
    "plt.tight_layout()\n",
    "plt.xlabel('Number of genes', fontsize=18)\n",
    "plt.ylabel('Chromosome', fontsize=18)\n",
    "\n",
    "plt.show()"
   ]
  },
  {
   "cell_type": "code",
   "execution_count": null,
   "metadata": {},
   "outputs": [],
   "source": [
    "import plotly as py\n",
    "import plotly.graph_objs as go\n",
    "\n",
    "py.offline.init_notebook_mode()\n",
    "\n",
    "subgroups_counts = exp_to_tree_map['Functional Annotation Subgroup'].value_counts()\n",
    "\n",
    "labels = subgroups_counts.index\n",
    "values = subgroups_counts\n",
    "\n",
    "trace = go.Pie(labels=labels, values=values)\n",
    "\n",
    "py.offline.iplot([trace], filename='basic_pie_chart')"
   ]
  },
  {
   "cell_type": "code",
   "execution_count": null,
   "metadata": {},
   "outputs": [],
   "source": [
    "exp_to_tree_map['Functional Annotation'].value_counts()"
   ]
  },
  {
   "cell_type": "markdown",
   "metadata": {},
   "source": [
    "http://rpy.sourceforge.net/rpy2/doc-2.4/html/interactive.html"
   ]
  },
  {
   "cell_type": "code",
   "execution_count": null,
   "metadata": {},
   "outputs": [],
   "source": [
    "%load_ext rpy2.ipython"
   ]
  },
  {
   "cell_type": "code",
   "execution_count": null,
   "metadata": {
    "scrolled": false
   },
   "outputs": [],
   "source": [
    "%%R\n",
    "\n",
    "source('Gene_KEGG_treemap_generator.R')"
   ]
  },
  {
   "cell_type": "markdown",
   "metadata": {},
   "source": [
    "# Convolutional neural network for predicting cancer survival\n",
    "\n",
    "In this notebook, a CNN is trained for cancer survival prediction with the following structure:\n",
    "\n",
    "- input: gene expression profiles shape an image (as a matrix) per patient, whose pixels (gene expression levels) are neigbours depending on their KEGG-BRITE functional annotation. These are the previously generated treemap-images.\n",
    "\n",
    "- output: the correspondant Kaplan-Meier curve (as a vector) per patient, in that way it would be predicted survival for a discrete range of time.\n"
   ]
  },
  {
   "cell_type": "markdown",
   "metadata": {},
   "source": [
    "## Input: KEGG-TREEMAPs\n",
    "\n",
    "Previously generated treemap images are going to be used as input of a convolutional neural network, in order to "
   ]
  },
  {
   "cell_type": "markdown",
   "metadata": {},
   "source": [
    "### KEGG-TREEMAPs data loading"
   ]
  },
  {
   "cell_type": "code",
   "execution_count": null,
   "metadata": {},
   "outputs": [],
   "source": [
    "%%time\n",
    "\n",
    "# DL with Python - François Chollet (pp. 162-163)\n",
    "from PIL import Image\n",
    "from keras.preprocessing import image\n",
    "import glob\n",
    "\n",
    "path = '../data/KEGG/COMMON_GENES_KEGG_TREEMAPS/'\n",
    "filelist = glob.glob(path + '*.png')\n",
    "brca_images = dict()\n",
    "non_brca_images = dict()\n",
    "w, h = (480, 480)\n",
    "basewidth = 100\n",
    "wpercent = (basewidth/float(w))\n",
    "hsize = int((float(h)*float(wpercent)))\n",
    "for filename in filelist:\n",
    "    sample = filename.split(\" \")[1]\n",
    "    if('NON' in sample):\n",
    "        non_brca_images[sample.split(\"_\")[0].replace('.','-')] = image.load_img(filename).crop((11, 11, w-13, h-13)).resize((basewidth,hsize), Image.ANTIALIAS)\n",
    "    else:\n",
    "        brca_images[sample.split(\"_\")[0].replace('.','-')] = image.load_img(filename).crop((11, 11, w-13, h-13)).resize((basewidth,hsize), Image.ANTIALIAS)"
   ]
  },
  {
   "cell_type": "code",
   "execution_count": null,
   "metadata": {
    "scrolled": true
   },
   "outputs": [],
   "source": [
    "image.img_to_array(non_brca_images[list(non_brca_images.keys())[9]]).shape"
   ]
  },
  {
   "cell_type": "code",
   "execution_count": null,
   "metadata": {},
   "outputs": [],
   "source": [
    "non_brca_images[list(non_brca_images.keys())[911]]"
   ]
  },
  {
   "cell_type": "code",
   "execution_count": null,
   "metadata": {},
   "outputs": [],
   "source": [
    "len(non_brca_images)"
   ]
  },
  {
   "cell_type": "code",
   "execution_count": null,
   "metadata": {},
   "outputs": [],
   "source": [
    "len(brca_images)"
   ]
  },
  {
   "cell_type": "markdown",
   "metadata": {},
   "source": [
    "## Output: Discrete time survival vector"
   ]
  },
  {
   "cell_type": "markdown",
   "metadata": {},
   "source": [
    "### Overal Survival (OS) data loading and cleaning"
   ]
  },
  {
   "cell_type": "code",
   "execution_count": null,
   "metadata": {},
   "outputs": [],
   "source": [
    "brca_clinical = pd.read_hdf('data/TCGA_data.h5', key='brca_clinical')\n",
    "non_brca_clinical = pd.read_hdf('data/TCGA_data.h5', key='non_brca_clinical')"
   ]
  },
  {
   "cell_type": "markdown",
   "metadata": {},
   "source": [
    "BRCA:"
   ]
  },
  {
   "cell_type": "code",
   "execution_count": null,
   "metadata": {},
   "outputs": [],
   "source": [
    "print(\"Number of brca-samples with clinical information: {}\".format(len(brca_clinical.index)))"
   ]
  },
  {
   "cell_type": "code",
   "execution_count": null,
   "metadata": {},
   "outputs": [],
   "source": [
    "brca_clinical['OS'].value_counts()"
   ]
  },
  {
   "cell_type": "code",
   "execution_count": null,
   "metadata": {
    "scrolled": true
   },
   "outputs": [],
   "source": [
    "brca_clinical['OS.time'].value_counts()"
   ]
  },
  {
   "cell_type": "markdown",
   "metadata": {},
   "source": [
    "NON-BRCA:"
   ]
  },
  {
   "cell_type": "code",
   "execution_count": null,
   "metadata": {
    "scrolled": true
   },
   "outputs": [],
   "source": [
    "print(\"Number of non_brca-samples with clinical information: {}\".format(len(non_brca_clinical.index)))"
   ]
  },
  {
   "cell_type": "code",
   "execution_count": null,
   "metadata": {},
   "outputs": [],
   "source": [
    "non_brca_clinical['OS'].value_counts()"
   ]
  },
  {
   "cell_type": "code",
   "execution_count": null,
   "metadata": {
    "scrolled": true
   },
   "outputs": [],
   "source": [
    "non_brca_clinical['OS.time'].value_counts()"
   ]
  },
  {
   "cell_type": "markdown",
   "metadata": {},
   "source": [
    "Both brca and non_brca clinical data have NaN values in OS-columns. Also, there are samples that are not in both clinical and image datasets. Because of these problems, it is necessary to drop some samples we do not have all required information of."
   ]
  },
  {
   "cell_type": "code",
   "execution_count": null,
   "metadata": {},
   "outputs": [],
   "source": [
    "# Deleting samples with 'NaN's in OS-columns \n",
    "\n",
    "## non_brca\n",
    "non_brca_clinical['OS.time'] = non_brca_clinical['OS.time'].map(lambda x: np.nan if x == 'NaN' else x)\n",
    "non_brca_clinical['OS'] = non_brca_clinical['OS'].map(lambda x: np.nan if x == 'NaN' else x)\n",
    "non_brca_clinical.dropna(subset=['OS.time', 'OS'], inplace=True)\n",
    "non_brca_clinical['OS.time'] = non_brca_clinical['OS.time'].astype(float)\n",
    "non_brca_clinical['OS'] = non_brca_clinical['OS'].astype(float)\n",
    "\n",
    "## brca\n",
    "brca_clinical['OS.time'] = brca_clinical['OS.time'].map(lambda x: np.nan if x == 'NaN' else x)\n",
    "brca_clinical['OS'] = brca_clinical['OS'].map(lambda x: np.nan if x == 'NaN' else x)\n",
    "brca_clinical.dropna(subset=['OS.time', 'OS'], inplace=True)\n",
    "brca_clinical['OS.time'] = brca_clinical['OS.time'].astype(float)\n",
    "brca_clinical['OS'] = brca_clinical['OS'].astype(float)"
   ]
  },
  {
   "cell_type": "code",
   "execution_count": null,
   "metadata": {},
   "outputs": [],
   "source": [
    "common_brca = set(list(brca_images.keys())).intersection(brca_clinical.index)\n",
    "for sample in list(brca_images.keys()):\n",
    "    if(sample not in common_brca): del brca_images[sample] \n",
    "brca_clinical = brca_clinical.loc[common_brca]\n",
    "\n",
    "common_non_brca = set(list(non_brca_images.keys())).intersection(non_brca_clinical.index)\n",
    "for sample in list(non_brca_images.keys()):\n",
    "    if(sample not in common_non_brca): del non_brca_images[sample] \n",
    "non_brca_clinical = non_brca_clinical.loc[common_non_brca]"
   ]
  },
  {
   "cell_type": "code",
   "execution_count": null,
   "metadata": {
    "scrolled": true
   },
   "outputs": [],
   "source": [
    "print(\"Number of brca samples after cleaning: {}\".format(len(list(brca_images.keys()))))"
   ]
  },
  {
   "cell_type": "code",
   "execution_count": null,
   "metadata": {
    "scrolled": true
   },
   "outputs": [],
   "source": [
    "print(\"Number of brca samples after cleaning: {}\".format(len(list(brca_images.keys()))))"
   ]
  },
  {
   "cell_type": "code",
   "execution_count": null,
   "metadata": {
    "scrolled": true
   },
   "outputs": [],
   "source": [
    "print(\"Number of non_brca samples after cleaning: {}\".format(len(list(non_brca_images.keys()))))"
   ]
  },
  {
   "cell_type": "code",
   "execution_count": null,
   "metadata": {},
   "outputs": [],
   "source": [
    "print(\"Number of non_brca samples after cleaning: {}\".format(len(list(non_brca_images.keys()))))"
   ]
  },
  {
   "cell_type": "markdown",
   "metadata": {},
   "source": [
    "### From OS to "
   ]
  },
  {
   "cell_type": "code",
   "execution_count": null,
   "metadata": {},
   "outputs": [],
   "source": [
    "# Create 39 equally spaced intervals for follow-up time, from 0 to 5 years:\n",
    "breaks = np.arange(0.,365.*5,365./8)\n",
    "n_intervals = len(breaks)-1\n",
    "timegap = breaks[1:] - breaks[:-1]"
   ]
  },
  {
   "cell_type": "code",
   "execution_count": null,
   "metadata": {},
   "outputs": [],
   "source": [
    "import nnet_survival"
   ]
  },
  {
   "cell_type": "code",
   "execution_count": null,
   "metadata": {},
   "outputs": [],
   "source": [
    "\n",
    "non_brca_y = nnet_survival.make_surv_array(non_brca_clinical['OS.time'],\n",
    "                             non_brca_clinical['OS'],\n",
    "                             breaks)\n",
    "brca_y = nnet_survival.make_surv_array(brca_clinical['OS.time'],\n",
    "                             brca_clinical['OS'],\n",
    "                             breaks)"
   ]
  },
  {
   "cell_type": "code",
   "execution_count": null,
   "metadata": {},
   "outputs": [],
   "source": [
    "non_brca_y.shape"
   ]
  },
  {
   "cell_type": "markdown",
   "metadata": {},
   "source": [
    "### From PIL.Image to Numpy"
   ]
  },
  {
   "cell_type": "code",
   "execution_count": null,
   "metadata": {},
   "outputs": [],
   "source": [
    "%%time\n",
    "\n",
    "import numpy as np\n",
    "samples = list(non_brca_clinical.index)\n",
    "X_non_brca = np.empty((len(samples), 100, 100, 3))\n",
    "\n",
    "for i in range(0, len(samples)):\n",
    "    X_non_brca[i] = image.img_to_array(non_brca_images[samples[i]])"
   ]
  },
  {
   "cell_type": "code",
   "execution_count": null,
   "metadata": {},
   "outputs": [],
   "source": [
    "%%time\n",
    "\n",
    "import numpy as np\n",
    "samples = list(brca_clinical.index)\n",
    "X_brca = np.empty((len(samples), 100, 100, 3))\n",
    "\n",
    "for i in range(0, len(samples)):\n",
    "    X_brca[i] = image.img_to_array(brca_images[samples[i]])"
   ]
  },
  {
   "cell_type": "code",
   "execution_count": null,
   "metadata": {},
   "outputs": [],
   "source": [
    "X_non_brca.shape"
   ]
  },
  {
   "cell_type": "code",
   "execution_count": null,
   "metadata": {},
   "outputs": [],
   "source": [
    "del non_brca_images\n",
    "del brca_images"
   ]
  },
  {
   "cell_type": "markdown",
   "metadata": {},
   "source": [
    "## NON-BRCA training"
   ]
  },
  {
   "cell_type": "code",
   "execution_count": null,
   "metadata": {},
   "outputs": [],
   "source": [
    "X_non_brca.shape"
   ]
  },
  {
   "cell_type": "code",
   "execution_count": null,
   "metadata": {},
   "outputs": [],
   "source": [
    "non_brca_y.shape"
   ]
  },
  {
   "cell_type": "code",
   "execution_count": null,
   "metadata": {},
   "outputs": [],
   "source": [
    "%%time\n",
    "# Split dataset into train and test\n",
    "from sklearn.model_selection import train_test_split\n",
    "\n",
    "X_non_brca_train, X_non_brca_test, y_non_brca_train, y_non_brca_test, train_index, test_index = train_test_split(X_non_brca, non_brca_y, np.arange(len(X_non_brca)), test_size=0.2, random_state=42)\n",
    "X_non_brca_train, X_non_brca_val, y_non_brca_train, y_non_brca_val, train_index, val_index = train_test_split(X_non_brca_train, y_non_brca_train, train_index, test_size=0.2, random_state=44)"
   ]
  },
  {
   "cell_type": "code",
   "execution_count": null,
   "metadata": {},
   "outputs": [],
   "source": [
    "y_non_brca_train = np.array(y_non_brca_train, dtype=int)\n",
    "y_non_brca_test = np.array(y_non_brca_test, dtype=int)\n",
    "y_non_brca_val = np.array(y_non_brca_val, dtype=int)"
   ]
  },
  {
   "cell_type": "code",
   "execution_count": null,
   "metadata": {},
   "outputs": [],
   "source": [
    "del X_non_brca"
   ]
  },
  {
   "cell_type": "code",
   "execution_count": null,
   "metadata": {
    "scrolled": true
   },
   "outputs": [],
   "source": [
    "X_non_brca_train.shape"
   ]
  },
  {
   "cell_type": "code",
   "execution_count": null,
   "metadata": {
    "scrolled": true
   },
   "outputs": [],
   "source": [
    "X_non_brca_test.shape"
   ]
  },
  {
   "cell_type": "code",
   "execution_count": null,
   "metadata": {},
   "outputs": [],
   "source": [
    "X_non_brca_val.shape"
   ]
  },
  {
   "cell_type": "code",
   "execution_count": null,
   "metadata": {},
   "outputs": [],
   "source": [
    "y_non_brca_test.shape"
   ]
  },
  {
   "cell_type": "code",
   "execution_count": null,
   "metadata": {
    "scrolled": true
   },
   "outputs": [],
   "source": [
    "y_non_brca_train.shape"
   ]
  },
  {
   "cell_type": "code",
   "execution_count": null,
   "metadata": {
    "scrolled": true
   },
   "outputs": [],
   "source": [
    "y_non_brca_test.shape"
   ]
  },
  {
   "cell_type": "code",
   "execution_count": null,
   "metadata": {},
   "outputs": [],
   "source": [
    "y_non_brca_val.shape"
   ]
  },
  {
   "cell_type": "code",
   "execution_count": null,
   "metadata": {},
   "outputs": [],
   "source": [
    "print(\"Dataset size:\", X_non_brca_train.shape, X_non_brca_test.shape, X_non_brca_val.shape)"
   ]
  },
  {
   "cell_type": "markdown",
   "metadata": {},
   "source": [
    "Multilayer CONVNET architecture:"
   ]
  },
  {
   "cell_type": "code",
   "execution_count": null,
   "metadata": {},
   "outputs": [],
   "source": [
    "import keras.backend as K\n",
    "from keras.models import Sequential\n",
    "from keras.layers import Input, Dense, Conv2D, MaxPool2D, Activation, Dropout, Flatten\n",
    "from keras import regularizers, optimizers\n",
    "from keras.layers.normalization import BatchNormalization\n",
    "from keras.callbacks import EarlyStopping\n",
    "import warnings\n",
    "from keras.regularizers import l1\n",
    "from keras.optimizers import Adam\n",
    "import tensorflow as tf"
   ]
  },
  {
   "cell_type": "raw",
   "metadata": {},
   "source": [
    "K.clear_session()\n",
    "\n",
    "config = tf.ConfigProto()\n",
    "config.gpu_options.allow_growth = True\n",
    "config.gpu_options.per_process_gpu_memory_fraction = 0.4\n",
    "\n",
    "K.set_session(tf.Session(config=config))\n",
    "\n",
    "model = Sequential()\n",
    "\n",
    "# Conv layer 1 ---\n",
    "model.add(Conv2D(32, kernel_size=(3,3),\n",
    "                input_shape = (X_non_brca_train.shape[1], X_non_brca_train.shape[2], X_non_brca_train.shape[3])))\n",
    "model.add(BatchNormalization())\n",
    "model.add(Activation('relu'))\n",
    "model.add(MaxPool2D(pool_size=(2,2)))\n",
    "model.add(Dropout(0.25))\n",
    "# Conv layer 2 ---\n",
    "model.add(Conv2D(64, kernel_size=(3,3)))\n",
    "model.add(BatchNormalization())\n",
    "model.add(Activation('relu'))\n",
    "model.add(MaxPool2D(pool_size=(2,2)))\n",
    "model.add(Dropout(0.25))\n",
    "# # Conv layer 3 ---\n",
    "model.add(Conv2D(128, kernel_size=(3,3)))\n",
    "model.add(BatchNormalization())\n",
    "model.add(Activation('relu'))\n",
    "model.add(MaxPool2D(pool_size=(2,2)))\n",
    "model.add(Dropout(0.25))\n",
    "# Flatten layer ---\n",
    "model.add(Flatten())\n",
    "#model.add(Dense(36864, activation='relu'))\n",
    "# Dense layer 1 ---\n",
    "model.add(Dense(128))\n",
    "model.add(BatchNormalization())\n",
    "model.add(Activation('relu'))\n",
    "model.add(Dropout(0.5))\n",
    "# Dense layer 2 ---\n",
    "model.add(Dense(64))\n",
    "model.add(BatchNormalization())\n",
    "model.add(Activation('relu'))\n",
    "# Dense layer 3 ---\n",
    "# model.add(Dense(256))\n",
    "# model.add(BatchNormalization())\n",
    "# model.add(Activation('relu'))\n",
    "# Output layer ---\n",
    "model.add(Dense(n_intervals, activation='sigmoid'))"
   ]
  },
  {
   "cell_type": "code",
   "execution_count": null,
   "metadata": {},
   "outputs": [],
   "source": []
  },
  {
   "cell_type": "code",
   "execution_count": null,
   "metadata": {},
   "outputs": [],
   "source": [
    "model.summary()"
   ]
  },
  {
   "cell_type": "code",
   "execution_count": null,
   "metadata": {},
   "outputs": [],
   "source": [
    "optimizer = Adam(lr=0.001)\n",
    "\n",
    "model.compile(loss=nnet_survival.surv_likelihood(n_intervals), optimizer=optimizer)"
   ]
  },
  {
   "cell_type": "code",
   "execution_count": null,
   "metadata": {},
   "outputs": [],
   "source": [
    "# Using C-index as evaluation metric (using a custom callback)\n",
    "\n",
    "from lifelines.utils import concordance_index\n",
    "from keras.callbacks import Callback\n",
    "\n",
    "class CIndex(Callback):\n",
    "    \"\"\"\n",
    "    Callback that computes the C-index metric both on training and test data after each epoch.\n",
    "    \n",
    "    Arguments:\n",
    "        train_x: Numpy array containing the training dataset.\n",
    "        train_time: Numpy array with survival time for training dataset.\n",
    "        train_event: Numpy array with survival event for training dataset.\n",
    "        val_x: Numpy array containing the test dataset.\n",
    "        val_time: Numpy array with survival time for test dataset.\n",
    "        val_event: Numpy array with survival event for test dataset.\n",
    "        filepath: path to save the model.\n",
    "        years: number of years to compute c-index\n",
    "        patience: patience for early-stop training\n",
    "    \"\"\"\n",
    "    \n",
    "    def __init__(self, train_x, train_time, train_event, val_x, val_time, val_event, filepath, years=2, patience=5):\n",
    "        super(Callback, self).__init__()\n",
    "        self.X_tr = train_x\n",
    "        self.time_tr = train_time\n",
    "        self.event_tr = train_event\n",
    "        self.X_val = val_x\n",
    "        self.time_val = val_time\n",
    "        self.event_val = val_event\n",
    "        self.years = years\n",
    "        self.patience = patience\n",
    "        self.best = 0.0\n",
    "        self.wait = 0  #counter for patience\n",
    "        self.best_rounds = 1\n",
    "        self.counter = 0\n",
    "        self.filepath = filepath\n",
    "        \n",
    "    def on_train_begin(self, logs={}):\n",
    "        self.c_index_dict = {'c-index': [], 'val_c-index': []}\n",
    "\n",
    "    def on_epoch_end(self, epoch, logs={}):\n",
    "        self.counter +=1\n",
    "\n",
    "        y_tr=self.model.predict_proba(self.X_tr,verbose=0)\n",
    "        yr_surv=np.cumprod(y_tr[:,0:np.nonzero(breaks>365*self.years)[0][0]], axis=1)[:,-1]\n",
    "        c_index_tr = concordance_index(self.time_tr, yr_surv, self.event_tr)\n",
    "        y_val=self.model.predict_proba(self.X_val,verbose=0)\n",
    "        yr_surv_val=np.cumprod(y_val[:,0:np.nonzero(breaks>365*self.years)[0][0]], axis=1)[:,-1]\n",
    "        c_index_val = concordance_index(self.time_val, yr_surv_val, self.event_val)\n",
    "\n",
    "        print('\\tc-index: %s - val_c-index: %s' % (str(round(c_index_tr, 4)), str(round(c_index_val, 4))))\n",
    "        \n",
    "        if (c_index_val > self.best):\n",
    "            self.c_index_dict['c-index'].append(c_index_tr)\n",
    "            self.c_index_dict['val_c-index'].append(c_index_val)\n",
    "\n",
    "            self.best = c_index_val\n",
    "            self.best_rounds = self.counter\n",
    "            self.wait = 0\n",
    "            self.model.save_weights(self.filepath, overwrite=True)\n",
    "        else:\n",
    "            if self.wait >= self.patience: #no more patience, retrieve best model\n",
    "                self.model.stop_training = True\n",
    "                print('Best number of rounds: %d \\nValidation C-Index: %f \\n' % (self.best_rounds, self.best))\n",
    "                self.model.load_weights(self.filepath)\n",
    "            self.wait += 1"
   ]
  },
  {
   "cell_type": "code",
   "execution_count": null,
   "metadata": {},
   "outputs": [],
   "source": [
    "%time\n",
    "\n",
    "hist_c_index = CIndex(X_non_brca_train,\n",
    "                    non_brca_clinical.iloc[train_index]['OS.time'],\n",
    "                    non_brca_clinical.iloc[train_index]['OS'],\n",
    "                    X_non_brca_val,\n",
    "                    non_brca_clinical.iloc[val_index]['OS.time'],\n",
    "                    non_brca_clinical.iloc[val_index]['OS'],\n",
    "                    filepath = 'keras-models/best.h5')\n",
    "\n",
    "#callbacks = [EarlyStopping(monitor='loss', min_delta=0.01, patience=2, verbose=2, mode=\"min\")]\n",
    "callbacks = [hist_c_index]\n",
    "\n",
    "\n",
    "batch = 128\n",
    "n_epoch = 50\n",
    "\n",
    "history = model.fit(X_non_brca_train, \n",
    "                    y_non_brca_train, \n",
    "                    batch_size=batch, \n",
    "                    epochs=n_epoch, \n",
    "                    callbacks=callbacks, \n",
    "                    validation_data = [X_non_brca_val, y_non_brca_val])"
   ]
  },
  {
   "cell_type": "code",
   "execution_count": null,
   "metadata": {},
   "outputs": [],
   "source": [
    "import plotly as py\n",
    "import plotly.graph_objs as go\n",
    "\n",
    "py.offline.init_notebook_mode()"
   ]
  },
  {
   "cell_type": "code",
   "execution_count": null,
   "metadata": {},
   "outputs": [],
   "source": [
    "# Loss plot using linear regression\n",
    "\n",
    "hist_object = history\n",
    "\n",
    "x_axis = np.linspace(1, len(hist_object.history['loss']), num=len(hist_object.history['loss']))\n",
    "\n",
    "# Create traces\n",
    "trace0 = go.Scatter(\n",
    "    x = x_axis,\n",
    "    y = hist_object.history['loss'],\n",
    "    mode = 'lines',\n",
    "    name = 'train standard scaled'\n",
    ")\n",
    "\n",
    "trace1 = go.Scatter(\n",
    "    x = x_axis,\n",
    "    y = hist_object.history['val_loss'],\n",
    "    mode = 'lines',\n",
    "    name = 'val standard scaled'\n",
    ")\n",
    "\n",
    "data = [trace0, trace1]\n",
    "\n",
    "# Edit the layout\n",
    "layout = dict(xaxis = dict(title = 'Epoch'), \n",
    "              yaxis = dict(title = 'Loss'),\n",
    "              title = \"Fully-connected model with num epochs=\" + str(n_epoch) + \", batch size=\" + str(batch))\n",
    "\n",
    "fig = dict(data=data, layout=layout)\n",
    "\n",
    "py.offline.iplot(fig)"
   ]
  },
  {
   "cell_type": "code",
   "execution_count": null,
   "metadata": {},
   "outputs": [],
   "source": [
    "# C-Index plot\n",
    "\n",
    "x_axis = np.linspace(1, len(hist_c_index.c_index_dict['c-index']), num=len(hist_c_index.c_index_dict['c-index']))\n",
    "\n",
    "trace0 = go.Scatter(\n",
    "    x = x_axis,\n",
    "    y = hist_c_index.c_index_dict['c-index'],\n",
    "    line = dict(color = 'red'),\n",
    "    name = 'train'\n",
    ")\n",
    "trace1 = go.Scatter(\n",
    "    y = hist_c_index.c_index_dict['val_c-index'],\n",
    "    line = dict(color = 'darkblue'),\n",
    "    name = 'test'\n",
    ")\n",
    "\n",
    "data = [trace0, trace1]\n",
    "\n",
    "layout = dict(xaxis = dict(title = 'Epoch'),\n",
    "              yaxis = dict(title = 'C-Index'),\n",
    "              title = \"Model C-Index\")\n",
    "\n",
    "fig = dict(data=data, layout=layout)\n",
    "\n",
    "py.offline.iplot(fig)"
   ]
  },
  {
   "cell_type": "code",
   "execution_count": null,
   "metadata": {},
   "outputs": [],
   "source": [
    "y_pred=model.predict_proba(X_non_brca_train,verbose=0)"
   ]
  },
  {
   "cell_type": "code",
   "execution_count": null,
   "metadata": {},
   "outputs": [],
   "source": [
    "from lifelines import KaplanMeierFitter\n",
    "from lifelines import CoxPHFitter\n",
    "from lifelines.utils import concordance_index"
   ]
  },
  {
   "cell_type": "code",
   "execution_count": null,
   "metadata": {},
   "outputs": [],
   "source": [
    "days_plot = 365*5\n",
    "\n",
    "kmf = KaplanMeierFitter()\n",
    "kmf.fit(non_brca_clinical.iloc[train_index]['OS.time'], non_brca_clinical.iloc[train_index]['OS']) \n",
    "pred_surv = np.mean(np.cumprod(y_pred, axis=1),axis=0)\n",
    "plt.plot(breaks,np.concatenate(([1],pred_surv)),'bo-')\n",
    "plt.plot(kmf.survival_function_.index.values, kmf.survival_function_.KM_estimate,color='k')\n",
    "\n",
    "plt.xticks(np.arange(0, days_plot+0.0001, 200))\n",
    "plt.yticks(np.arange(0, 1.0001, 0.125))\n",
    "plt.xlim([0,days_plot])\n",
    "plt.ylim([0,1])\n",
    "plt.xlabel('Follow-up time (days)')\n",
    "plt.ylabel('Proportion surviving')\n",
    "plt.title('Actual=black, predicted=blue.')\n",
    "plt.show()"
   ]
  },
  {
   "cell_type": "code",
   "execution_count": null,
   "metadata": {},
   "outputs": [],
   "source": [
    "# Concordance C-index (two year survival)\n",
    "\n",
    "twoyr_surv=np.cumprod(y_pred[:,0:np.nonzero(breaks>365*2)[0][0]], axis=1)[:,-1]\n",
    "print(\"C-index for two-year survival:\", concordance_index(non_brca_clinical.iloc[train_index]['OS.time'],twoyr_surv, non_brca_clinical.iloc[train_index]['OS']))"
   ]
  },
  {
   "cell_type": "code",
   "execution_count": null,
   "metadata": {
    "scrolled": true
   },
   "outputs": [],
   "source": [
    "# Concordance C-index (two year survival) for test dataset\n",
    "y_pred_test=model.predict_proba(X_non_brca_test,verbose=0)\n",
    "twoyr_surv_test=np.cumprod(y_pred_test[:,0:np.nonzero(breaks>365*2)[0][0]], axis=1)[:,-1]\n",
    "print(\"C-index for two-year survival (test):\", concordance_index(non_brca_clinical.iloc[test_index]['OS.time'],twoyr_surv_test, non_brca_clinical.iloc[test_index]['OS']))"
   ]
  },
  {
   "cell_type": "markdown",
   "metadata": {},
   "source": [
    "## Bayesian optimization"
   ]
  },
  {
   "cell_type": "markdown",
   "metadata": {},
   "source": [
    "### NON_BRCA dataset:"
   ]
  },
  {
   "cell_type": "code",
   "execution_count": null,
   "metadata": {},
   "outputs": [],
   "source": [
    "from hyperopt import hp, fmin, tpe, hp, STATUS_OK, Trials"
   ]
  },
  {
   "cell_type": "markdown",
   "metadata": {},
   "source": [
    "Define the dictionary of hyper-parameter values to be tested:"
   ]
  },
  {
   "cell_type": "code",
   "execution_count": null,
   "metadata": {},
   "outputs": [],
   "source": [
    "space = {\n",
    "    'conv_choice': hp.choice('conv_num_layers', \n",
    "                            [{'layers': 'two',\n",
    "                             'units_2conv2': hp.choice('units_2conv2', [16, 32, 64, 128]),\n",
    "                              '2kernel2': hp.choice('2kernel2', [3,5]),\n",
    "                              '2pool2': 2,\n",
    "                             'dropout_2conv2': hp.choice('dropout_2conv2', [0.25, 0.5, 0.75])\n",
    "                            },\n",
    "                            {'layers': 'three',\n",
    "                             'units_3conv2': hp.choice('units_3conv2', [16, 32, 64, 128]),\n",
    "                             '3kernel2': hp.choice('3kernel2', [3,5]),\n",
    "                             '3pool2': 2,\n",
    "                             'dropout_3conv2': hp.choice('dropout_3conv2', [0.25, 0.5, 0.75]),\n",
    "                             'units_3conv3': hp.choice('units_3conv3', [16, 32, 64, 128]),\n",
    "                             '3kernel3': hp.choice('kernel3', [3,5]),\n",
    "                             '3pool3': 2,\n",
    "                             'dropout_3conv3': hp.choice('dropout_3conv3', [0.25, 0.5, 0.75])\n",
    "                            }]\n",
    "                            ),\n",
    "    'dense_choice': hp.choice('dense_num_layers', \n",
    "                            [{'layers': 'two',\n",
    "                             'units_2dense2': hp.choice('units_2dense2', [16, 32, 64, 128]),\n",
    "                             'dropout_2dense2': hp.choice('dropout_2dense2', [0.25, 0.5, 0.75])\n",
    "                            },\n",
    "                            {'layers': 'three',\n",
    "                             'units_3dense2': hp.choice('units_3dense2', [16, 32, 64, 128]),\n",
    "                             'dropout_3dense2': hp.choice('dropout_3dense2', [0.25, 0.5, 0.75]),\n",
    "                             'units_3dense3': hp.choice('units_3dense3', [16, 32, 64, 128]),\n",
    "                             'dropout_3dense3': hp.choice('dropout_3dense3', [0.25, 0.5, 0.75])\n",
    "                            }]\n",
    "                            ),\n",
    "    'units_conv1': hp.choice('units_conv1', [16, 32, 64, 128]),\n",
    "    'kernel1': hp.choice('kernel1', [3,5]),\n",
    "    'pool1': 2,\n",
    "    'dropout_conv1': hp.choice('dropout_conv1', [0.25, 0.5, 0.75]),\n",
    "    'units_dense1': hp.choice('units_dense1', [16, 32, 64, 128]),\n",
    "    'dropout_dense1': hp.choice('dropout_dense1', [0.25, 0.5, 0.75]),\n",
    "    'batch_size' : hp.choice('batch_size', [16, 32, 64, 128]),\n",
    "    'nb_epochs' : 100,\n",
    "    'lr': hp.loguniform('lr', np.log(0.0001), np.log(0.01)),\n",
    "    'activation': 'relu'                                            \n",
    "}"
   ]
  },
  {
   "cell_type": "code",
   "execution_count": null,
   "metadata": {},
   "outputs": [],
   "source": []
  },
  {
   "cell_type": "code",
   "execution_count": null,
   "metadata": {},
   "outputs": [],
   "source": [
    "def train(params):\n",
    "    print('Params testing: ', params)\n",
    "    print('\\n')\n",
    "\n",
    "    # Prevent GPU memory allocation problems\n",
    "    config = tf.ConfigProto()\n",
    "    config.gpu_options.allow_growth = True\n",
    "    config.gpu_options.per_process_gpu_memory_fraction = 0.4\n",
    "    K.set_session(tf.Session(config=config))\n",
    "\n",
    "    ## CREATE MODEL\n",
    "    model = Sequential()\n",
    "\n",
    "    # Conv layer 1 ---\n",
    "    model.add(Conv2D(filters=params['units_conv1'], \n",
    "                     kernel_size=(params['kernel1'], params['kernel1']),\n",
    "                     input_shape = (X_non_brca_train.shape[1],\n",
    "                                    X_non_brca_train.shape[2],\n",
    "                                    X_non_brca_train.shape[3])))\n",
    "    model.add(BatchNormalization())\n",
    "    model.add(Activation(params['activation']))\n",
    "    model.add(MaxPool2D(pool_size=(params['pool1'],params['pool1'])))\n",
    "    model.add(Dropout(params['dropout_conv1']))\n",
    "\n",
    "    if params['conv_choice']['layers'] == 'two':\n",
    "        # Conv layer 2 ---\n",
    "        model.add(Conv2D(filters=params['conv_choice']['units_2conv2'], \n",
    "                     kernel_size=(params['conv_choice']['2kernel2'], params['conv_choice']['2kernel2'])))\n",
    "        model.add(BatchNormalization())\n",
    "        model.add(Activation(params['activation']))\n",
    "        model.add(MaxPool2D(pool_size=(params['conv_choice']['2pool2'], params['conv_choice']['2pool2'])))\n",
    "        model.add(Dropout(params['conv_choice']['dropout_2conv2']))\n",
    "    elif params['conv_choice']['layers'] == 'three':\n",
    "        # Conv layer 2 ---\n",
    "        model.add(Conv2D(filters=params['conv_choice']['units_3conv2'], \n",
    "                     kernel_size=(params['conv_choice']['3kernel2'], params['conv_choice']['3kernel2'])))\n",
    "        model.add(BatchNormalization())\n",
    "        model.add(Activation(params['activation']))\n",
    "        model.add(MaxPool2D(pool_size=(params['conv_choice']['3pool2'], params['conv_choice']['3pool2'])))\n",
    "        model.add(Dropout(params['conv_choice']['dropout_3conv2']))\n",
    "        # Conv layer 3 ---\n",
    "        model.add(Conv2D(filters=params['conv_choice']['units_3conv3'], \n",
    "                     kernel_size=(params['conv_choice']['3kernel3'], params['conv_choice']['3kernel3'])))\n",
    "        model.add(BatchNormalization())\n",
    "        model.add(Activation(params['activation']))\n",
    "        model.add(MaxPool2D(pool_size=(params['conv_choice']['3pool3'], params['conv_choice']['3pool3'])))\n",
    "        model.add(Dropout(params['conv_choice']['dropout_3conv3']))\n",
    "\n",
    "    # Flatten layer ---\n",
    "    model.add(Flatten())\n",
    "    \n",
    "    # Dense layer 1 ---\n",
    "    model.add(Dense(params['units_dense1']))\n",
    "    model.add(BatchNormalization())\n",
    "    model.add(Activation(params['activation']))\n",
    "    model.add(Dropout(params['dropout_dense1']))\n",
    "\n",
    "    if params['dense_choice']['layers']== 'two':\n",
    "        # Dense layer 2 ---\n",
    "        model.add(Dense(params['dense_choice']['units_2dense2']))\n",
    "        model.add(BatchNormalization())\n",
    "        model.add(Activation(params['activation']))\n",
    "        model.add(Dropout(params['dense_choice']['dropout_2dense2']))\n",
    "    elif params['dense_choice']['layers']== 'three':\n",
    "        # Dense layer 2 ---\n",
    "        model.add(Dense(params['dense_choice']['units_3dense2']))\n",
    "        model.add(BatchNormalization())\n",
    "        model.add(Activation(params['activation']))\n",
    "        model.add(Dropout(params['dense_choice']['dropout_3dense2']))\n",
    "        # Dense layer 3 ---\n",
    "        model.add(Dense(params['dense_choice']['units_3dense3']))\n",
    "        model.add(BatchNormalization())\n",
    "        model.add(Activation(params['activation']))\n",
    "        model.add(Dropout(params['dense_choice']['dropout_3dense3']))\n",
    "        \n",
    "    # Output layer ---\n",
    "    model.add(Dense(n_intervals, activation='sigmoid'))\n",
    "\n",
    "    optimizer = Adam(lr=params['lr'])\n",
    "\n",
    "    model.compile(loss=nnet_survival.surv_likelihood(n_intervals), optimizer=optimizer)\n",
    "    \n",
    "    model.summary()\n",
    "    \n",
    "    batch = params['batch_size']\n",
    "    n_epoch = params['nb_epochs']\n",
    "\n",
    "    hist_c_index = CIndex(X_non_brca_train,\n",
    "                    non_brca_clinical.iloc[train_index]['OS.time'],\n",
    "                    non_brca_clinical.iloc[train_index]['OS'],\n",
    "                    X_non_brca_val,\n",
    "                    non_brca_clinical.iloc[val_index]['OS.time'],\n",
    "                    non_brca_clinical.iloc[val_index]['OS'],\n",
    "                    filepath = 'keras-models/best.h5')\n",
    "\n",
    "    callbacks = [hist_c_index]    \n",
    "    \n",
    "    ## Fit model using training data\n",
    "    start = timer()\n",
    "    model.fit(X_non_brca_train, \n",
    "              y_non_brca_train, \n",
    "              batch_size=batch, \n",
    "              epochs=n_epoch, \n",
    "              validation_data = [X_non_brca_val, y_non_brca_val],\n",
    "              callbacks=callbacks)\n",
    "    run_time = timer() - start\n",
    "    \n",
    "    predictions = model.predict_proba(X_non_brca_test,verbose=0)\n",
    "    twoyr_surv=np.cumprod(predictions[:,0:np.nonzero(breaks>365*2)[0][0]], axis=1)[:,-1]\n",
    "    score = concordance_index(non_brca_clinical.iloc[test_index]['OS.time'], twoyr_surv, non_brca_clinical.iloc[test_index]['OS'])\n",
    "\n",
    "    # Return loss\n",
    "    return {'loss': score*(-1),\n",
    "            'params': params,\n",
    "            'train_time': run_time,\n",
    "            'status': STATUS_OK, \n",
    "            'rounds':hist_c_index.best_rounds}"
   ]
  },
  {
   "cell_type": "code",
   "execution_count": null,
   "metadata": {},
   "outputs": [],
   "source": [
    "from timeit import default_timer as timer\n",
    "from multiprocessing import Pool\n",
    "from hyperopt import STATUS_OK\n",
    "\n",
    "def objective(params):\n",
    "    from sklearn.metrics import roc_auc_score\n",
    "    \n",
    "    from keras.models import Sequential\n",
    "    from keras.layers import Input, Dense, Conv1D, MaxPool1D, Activation, Dropout, Flatten\n",
    "    from keras import regularizers, optimizers\n",
    "    from keras.layers.normalization import BatchNormalization\n",
    "    from keras.callbacks import EarlyStopping\n",
    "\n",
    "    from keras.regularizers import l1\n",
    "    from keras.optimizers import Adam\n",
    "   \n",
    "    with Pool(1) as p:\n",
    "            trial = p.apply(train, args=(params, ))\n",
    "\n",
    "    return trial"
   ]
  },
  {
   "cell_type": "code",
   "execution_count": null,
   "metadata": {
    "scrolled": true
   },
   "outputs": [],
   "source": [
    "%%time\n",
    "\n",
    "trials_non_brca = Trials()\n",
    "\n",
    "best_non_brca = fmin(objective, space, algo=tpe.suggest, trials=trials_non_brca, max_evals=50)\n",
    "\n",
    "print (best_non_brca)\n",
    "print (trials_non_brca.best_trial)"
   ]
  },
  {
   "cell_type": "code",
   "execution_count": null,
   "metadata": {},
   "outputs": [],
   "source": [
    "X_non_brca_train.shape[3]"
   ]
  },
  {
   "cell_type": "code",
   "execution_count": null,
   "metadata": {},
   "outputs": [],
   "source": [
    "import pickle\n",
    "\n",
    "with open(\"bayesian_hyper_opt_KEGG.pkl\", 'wb') as f:\n",
    "    pickle.dump([trials_non_brca, best_non_brca], f)"
   ]
  },
  {
   "cell_type": "code",
   "execution_count": null,
   "metadata": {},
   "outputs": [],
   "source": [
    "import pickle\n",
    "\n",
    "with open(\"bayesian_hyper_opt_KEGG.pkl\", 'rb') as f:\n",
    "    [trials_non_brca, best_non_brca] = pickle.load(f)"
   ]
  },
  {
   "cell_type": "code",
   "execution_count": null,
   "metadata": {},
   "outputs": [],
   "source": [
    "best_non_brca"
   ]
  },
  {
   "cell_type": "code",
   "execution_count": null,
   "metadata": {},
   "outputs": [],
   "source": [
    "best_non_brca['units_conv1'] = 16\n",
    "best_non_brca['kernel1'] = 3\n",
    "best_non_brca['activation'] = 'relu'\n",
    "\n",
    "best_non_brca['pool1'] = 2\n",
    "best_non_brca['dropout_conv1'] = 0.25\n",
    "best_non_brca['conv_choice'] = {'layers' : 'two', \n",
    "                                'units_2conv2' : 16,\n",
    "                                '2kernel2' : 3,\n",
    "                                '2pool2' : 2,\n",
    "                                'dropout_2conv2' : 0.5}\n",
    "\n",
    "best_non_brca['dropout_dense1'] = 0.75\n",
    "best_non_brca['units_dense1'] = 64\n",
    "best_non_brca['dense_choice'] = {'layers' : 'three',\n",
    "                                'units_3dense2' : 128,\n",
    "                                'units_3dense3' : 64,\n",
    "                                'dropout_3dense2' : 0.75,\n",
    "                                'dropout_3dense3' : 0.5}\n",
    "\n",
    "best_non_brca['batch_size'] = 16\n",
    "best_non_brca['nb_epochs'] = 100"
   ]
  },
  {
   "cell_type": "code",
   "execution_count": null,
   "metadata": {},
   "outputs": [],
   "source": [
    "best_non_brca"
   ]
  },
  {
   "cell_type": "code",
   "execution_count": null,
   "metadata": {},
   "outputs": [],
   "source": [
    "objective(best_non_brca)"
   ]
  },
  {
   "cell_type": "markdown",
   "metadata": {},
   "source": [
    "## BRCA dataset"
   ]
  },
  {
   "cell_type": "code",
   "execution_count": null,
   "metadata": {},
   "outputs": [],
   "source": [
    "X_brca_train, X_brca_test, y_brca_train, y_brca_test, train_index, test_index = train_test_split(brca_ex_pws_df, brca_y, np.arange(len(brca_ex_pws_df)), test_size=0.2, random_state=42)\n",
    "X_brca_train, X_brca_val, y_brca_train, y_brca_val, train_index, val_index = train_test_split(X_brca_train, y_brca_train, train_index, test_size=0.2, random_state=44)"
   ]
  },
  {
   "cell_type": "code",
   "execution_count": null,
   "metadata": {},
   "outputs": [],
   "source": [
    "y_brca_train = np.array(y_brca_train, dtype=int)\n",
    "y_brca_test = np.array(y_brca_test, dtype=int)\n",
    "y_brca_val = np.array(y_brca_val, dtype=int)"
   ]
  },
  {
   "cell_type": "code",
   "execution_count": null,
   "metadata": {},
   "outputs": [],
   "source": [
    "print(\"Dataset size:\", X_brca_train.shape, X_brca_test.shape, X_brca_val.shape)"
   ]
  },
  {
   "cell_type": "code",
   "execution_count": null,
   "metadata": {},
   "outputs": [],
   "source": []
  }
 ],
 "metadata": {
  "kernelspec": {
   "display_name": "Python 3",
   "language": "python",
   "name": "python3"
  },
  "language_info": {
   "codemirror_mode": {
    "name": "ipython",
    "version": 3
   },
   "file_extension": ".py",
   "mimetype": "text/x-python",
   "name": "python",
   "nbconvert_exporter": "python",
   "pygments_lexer": "ipython3",
   "version": "3.6.5"
  }
 },
 "nbformat": 4,
 "nbformat_minor": 2
}
