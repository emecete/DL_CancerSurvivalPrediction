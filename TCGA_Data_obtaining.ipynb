{
 "cells": [
  {
   "cell_type": "markdown",
   "metadata": {},
   "source": [
    "# TCGA Data obtaining\n",
    "In this notebook, it is going to be downloaded data from The Cancer Genome Project (TCGA).  \n",
    "\n",
    "It is going to be used the package *xenaPython* (https://github.com/ucscXena/xenaPython), Python API for Xena Hub.\n",
    "\n",
    "Datasets we are interested in are:\n",
    "\n",
    "- gene expression profiles from cancer patients (https://toil.xenahubs.net/download/tcga_RSEM_gene_tpm.gz)\n",
    "\n",
    "- clinical data from cancer patients ()"
   ]
  },
  {
   "cell_type": "markdown",
   "metadata": {},
   "source": [
    "## Gene expression profiles (BRCA and non-BRCA)"
   ]
  },
  {
   "cell_type": "code",
   "execution_count": 1,
   "metadata": {},
   "outputs": [],
   "source": [
    "import xenaPython as xena\n",
    "\n",
    "HUB = 'https://toil.xenahubs.net'\n",
    "DATASET = \"tcga_RSEM_gene_tpm\"\n",
    "all_samples = xena.dataset_samples(HUB, DATASET, None)\n",
    "all_genes = xena.dataset_field(HUB, DATASET)"
   ]
  },
  {
   "cell_type": "code",
   "execution_count": null,
   "metadata": {},
   "outputs": [],
   "source": [
    "print(\"Number of samples (patients): \" + str(len(all_samples)))\n",
    "print(\"Number of genes: \" + str(len(all_genes)))"
   ]
  },
  {
   "cell_type": "markdown",
   "metadata": {},
   "source": [
    "When downloading all expression levels for each patient and gene, there should be an error because of timeout (HTTP 504: Timeout). In order to solve it, data is going to be downloaded using multiprocessing."
   ]
  },
  {
   "cell_type": "raw",
   "metadata": {},
   "source": [
    "Time-out comes from:\n",
    "\n",
    "res = xena.dataset_probe_values(hub, dataset, all_samples, all_genes)"
   ]
  },
  {
   "cell_type": "code",
   "execution_count": 14,
   "metadata": {
    "scrolled": true
   },
   "outputs": [],
   "source": [
    "import xenaPython as xena\n",
    "from multiprocessing import Pool\n",
    "\n",
    "class ParallelDownloader:\n",
    "       \n",
    "    def __init__(self, gene_amount_per_download, hub, dataset):\n",
    "        self.HUB = hub\n",
    "        self.DATASET = dataset\n",
    "        self.gene_amount_per_pool = gene_amount_per_download\n",
    "        self.all_samples = xena.dataset_samples(HUB, DATASET, None)\n",
    "        self.all_genes = xena.dataset_field(HUB, DATASET)\n",
    "        self.GENE_AMOUNT_PER_POOL = 5000\n",
    "        self.NUMBER_OF_GENES = len(self.all_genes)\n",
    "        self.NUMBER_OF_POOLS = self.NUMBER_OF_GENES//self.GENE_AMOUNT_PER_POOL\n",
    "        if(self.NUMBER_OF_GENES%self.GENE_AMOUNT_PER_POOL != 0):\n",
    "             self.NUMBER_OF_POOLS += 1\n",
    "        \n",
    "    \n",
    "    def download_expression_profiles_part(self, n):\n",
    "        ini = n*self.GENE_AMOUNT_PER_POOL\n",
    "        fin = (n+1)*self.GENE_AMOUNT_PER_POOL\n",
    "        if fin > self.NUMBER_OF_GENES:\n",
    "            fin = self.NUMBER_OF_GENES + 1\n",
    "        print(\"Processing \" + str(n))\n",
    "        genes_to_download = self.all_genes[slice(ini, fin, 1)]\n",
    "        res = xena.dataset_probe_values(self.HUB, self.DATASET, self.all_samples, genes_to_download)\n",
    "        res[0] = genes_to_download\n",
    "        print(\"Processed \" + str(n))\n",
    "        return res\n",
    "    \n",
    "    def download_expression_profiles(self):\n",
    "        pool = Pool(self.NUMBER_OF_POOLS)\n",
    "        pre_all_data = pool.map_async(self.download_expression_profiles_part, list(range(self.NUMBER_OF_POOLS+1)))\n",
    "        all_data = pre_all_data.get()\n",
    "        return all_data\n"
   ]
  },
  {
   "cell_type": "code",
   "execution_count": null,
   "metadata": {},
   "outputs": [
    {
     "name": "stdout",
     "output_type": "stream",
     "text": [
      "Processing 0\n",
      "Processing 1\n",
      "Processing 2\n",
      "Processing 3\n",
      "Processing 4\n",
      "Processing 5\n",
      "Processing 6\n",
      "Processing 7\n",
      "Processing 8\n",
      "Processing 9\n",
      "Processing 10\n",
      "Processing 11\n",
      "Processing 12\n",
      "Processed 12\n",
      "Processing 13\n",
      "Processed 13\n"
     ]
    }
   ],
   "source": [
    "%%time\n",
    "\n",
    "HUB = 'https://toil.xenahubs.net'\n",
    "DATASET = \"tcga_RSEM_gene_tpm\"\n",
    "downloader = ParallelDownloader(5000, HUB, DATASET)\n",
    "all_data = downloader.download_expression_profiles()"
   ]
  },
  {
   "cell_type": "markdown",
   "metadata": {},
   "source": [
    "Now we have all dataset stored in memory.\n",
    "\n",
    "It is stored in multiple list of lists, then must be transformed to a Pandas DataFrame, like it is done down bellow:"
   ]
  },
  {
   "cell_type": "code",
   "execution_count": 10,
   "metadata": {},
   "outputs": [],
   "source": [
    "import pandas as pd\n",
    "\n",
    "df_gene_exp = pd.DataFrame()\n",
    "\n",
    "for x in range(len(all_data)):\n",
    "    header = all_data[x][0]\n",
    "    indexes = all_samples\n",
    "    tmp = pd.DataFrame.transpose(pd.DataFrame(all_data[x][1], columns=indexes, index=header))\n",
    "    df_gene_exp = pd.concat([df_gene_exp, tmp], axis=1)"
   ]
  },
  {
   "cell_type": "code",
   "execution_count": null,
   "metadata": {},
   "outputs": [],
   "source": [
    "# Saving data\n",
    "df_gene_exp.to_hdf('data/tcga_RSEM_gene_tpm.h5', key='gene_expression')"
   ]
  },
  {
   "cell_type": "raw",
   "metadata": {},
   "source": [
    "import pickle\n",
    "filehandler = open(\"alldata\", 'wb') \n",
    "pickle.dump(all_data, filehandler)"
   ]
  },
  {
   "cell_type": "code",
   "execution_count": 29,
   "metadata": {},
   "outputs": [],
   "source": [
    "import pandas as pd\n",
    "df_gene_exp = pd.read_hdf('data/tcga_RSEM_gene_tpm.h5', key='gene_expression').iloc[:, :-1]"
   ]
  },
  {
   "cell_type": "markdown",
   "metadata": {},
   "source": [
    "## Clinical BRCA"
   ]
  },
  {
   "cell_type": "raw",
   "metadata": {},
   "source": [
    "https://tcga.xenahubs.net/download/TCGA.BRCA.sampleMap/BRCA_clinicalMatrix"
   ]
  },
  {
   "cell_type": "code",
   "execution_count": 30,
   "metadata": {},
   "outputs": [
    {
     "name": "stdout",
     "output_type": "stream",
     "text": [
      "CPU times: user 56.5 ms, sys: 6.78 ms, total: 63.2 ms\n",
      "Wall time: 6.59 s\n"
     ]
    }
   ],
   "source": [
    "%%time\n",
    "\n",
    "import xenaPython as xena\n",
    "\n",
    "HUB = 'https://tcga.xenahubs.net'\n",
    "DATASET = \"TCGA.BRCA.sampleMap/BRCA_clinicalMatrix\"\n",
    "brca_samples = xena.dataset_samples(HUB, DATASET, None)\n",
    "all_fields = xena.dataset_field(HUB, DATASET)\n",
    "brca_clinical = xena.dataset_probe_values(HUB, DATASET, brca_samples, all_fields)"
   ]
  },
  {
   "cell_type": "code",
   "execution_count": 3,
   "metadata": {},
   "outputs": [],
   "source": [
    "import pandas as pd\n",
    "brca_clinical = pd.DataFrame(brca_clinical[1], columns=brca_samples, index=all_fields).T"
   ]
  },
  {
   "cell_type": "markdown",
   "metadata": {},
   "source": [
    "## Clinical non-BRCA"
   ]
  },
  {
   "cell_type": "raw",
   "metadata": {},
   "source": [
    "https://pancanatlas.xenahubs.net/download/Survival_SupplementalTable_S1_20171025_xena_sp.gz"
   ]
  },
  {
   "cell_type": "code",
   "execution_count": 31,
   "metadata": {},
   "outputs": [
    {
     "name": "stdout",
     "output_type": "stream",
     "text": [
      "CPU times: user 104 ms, sys: 15.7 ms, total: 119 ms\n",
      "Wall time: 4.15 s\n"
     ]
    }
   ],
   "source": [
    "%%time\n",
    "\n",
    "import xenaPython as xena\n",
    "\n",
    "HUB = 'https://pancanatlas.xenahubs.net'\n",
    "DATASET = \"Survival_SupplementalTable_S1_20171025_xena_sp\"\n",
    "all_samples = xena.dataset_samples(HUB, DATASET, None)\n",
    "non_brca_samples = list(set(all_samples).difference(brca_samples).intersection(list(df_gene_exp.index)))\n",
    "all_fields = xena.dataset_field(HUB, DATASET)\n",
    "non_brca_clinical = xena.dataset_probe_values(HUB, DATASET, non_brca_samples, all_fields)"
   ]
  },
  {
   "cell_type": "code",
   "execution_count": 5,
   "metadata": {
    "scrolled": true
   },
   "outputs": [],
   "source": [
    "import pandas as pd\n",
    "non_brca_clinical = pd.DataFrame(non_brca_clinical[1], columns=non_brca_samples, index=all_fields).T"
   ]
  },
  {
   "cell_type": "code",
   "execution_count": 101,
   "metadata": {},
   "outputs": [
    {
     "data": {
      "text/plain": [
       "0      6195\n",
       "1      3083\n",
       "NaN       7\n",
       "Name: OS, dtype: int64"
      ]
     },
     "execution_count": 101,
     "metadata": {},
     "output_type": "execute_result"
    }
   ],
   "source": [
    "non_brca_clinical['OS'].value_counts()"
   ]
  },
  {
   "cell_type": "markdown",
   "metadata": {},
   "source": [
    "## Cancer type (NOT VALID)"
   ]
  },
  {
   "cell_type": "raw",
   "metadata": {},
   "source": [
    "https://pancanatlas.xenahubs.net/download/TCGA_phenotype_denseDataOnlyDownload.tsv.gz"
   ]
  },
  {
   "cell_type": "code",
   "execution_count": 8,
   "metadata": {},
   "outputs": [
    {
     "name": "stdout",
     "output_type": "stream",
     "text": [
      "CPU times: user 51.3 ms, sys: 13.3 ms, total: 64.6 ms\n",
      "Wall time: 3.06 s\n"
     ]
    }
   ],
   "source": [
    "%%time\n",
    "\n",
    "import xenaPython as xena\n",
    "\n",
    "HUB = 'https://pancanatlas.xenahubs.net'\n",
    "DATASET = \"TCGA_phenotype_denseDataOnlyDownload.tsv\"\n",
    "all_samples = xena.dataset_samples(HUB, DATASET, None)\n",
    "all_fields = xena.dataset_field(HUB, DATASET)\n",
    "cancertype = xena.dataset_probe_values(HUB, DATASET, all_samples, all_fields)"
   ]
  },
  {
   "cell_type": "code",
   "execution_count": 9,
   "metadata": {},
   "outputs": [],
   "source": [
    "import pandas as pd\n",
    "cancertype = pd.DataFrame(cancertype[1], columns=all_samples, index=all_fields).T"
   ]
  },
  {
   "cell_type": "code",
   "execution_count": 10,
   "metadata": {},
   "outputs": [
    {
     "data": {
      "text/plain": [
       "10    1241\n",
       "Name: _primary_disease, dtype: int64"
      ]
     },
     "execution_count": 10,
     "metadata": {},
     "output_type": "execute_result"
    }
   ],
   "source": [
    "cancertype.loc[set(list(cancertype.index)).intersection(brca_clinical.index),'_primary_disease'].value_counts()\n"
   ]
  },
  {
   "cell_type": "markdown",
   "metadata": {},
   "source": [
    "## Data exploration"
   ]
  },
  {
   "cell_type": "code",
   "execution_count": 32,
   "metadata": {},
   "outputs": [
    {
     "name": "stdout",
     "output_type": "stream",
     "text": [
      "Total number of samples: 10535\n"
     ]
    }
   ],
   "source": [
    "print(\"Total number of samples: {}\".format(len(df_gene_exp.index)))"
   ]
  },
  {
   "cell_type": "code",
   "execution_count": 34,
   "metadata": {},
   "outputs": [
    {
     "ename": "TypeError",
     "evalue": "object of type 'builtin_function_or_method' has no len()",
     "output_type": "error",
     "traceback": [
      "\u001b[0;31m---------------------------------------------------------------------------\u001b[0m",
      "\u001b[0;31mTypeError\u001b[0m                                 Traceback (most recent call last)",
      "\u001b[0;32m<ipython-input-34-d6da7a664c37>\u001b[0m in \u001b[0;36m<module>\u001b[0;34m()\u001b[0m\n\u001b[0;32m----> 1\u001b[0;31m \u001b[0mprint\u001b[0m\u001b[0;34m(\u001b[0m\u001b[0;34m\"Total number of BRCA samples: {}\"\u001b[0m\u001b[0;34m.\u001b[0m\u001b[0mformat\u001b[0m\u001b[0;34m(\u001b[0m\u001b[0mlen\u001b[0m\u001b[0;34m(\u001b[0m\u001b[0mbrca_clinical\u001b[0m\u001b[0;34m.\u001b[0m\u001b[0mindex\u001b[0m\u001b[0;34m)\u001b[0m\u001b[0;34m)\u001b[0m\u001b[0;34m)\u001b[0m\u001b[0;34m\u001b[0m\u001b[0m\n\u001b[0m",
      "\u001b[0;31mTypeError\u001b[0m: object of type 'builtin_function_or_method' has no len()"
     ]
    }
   ],
   "source": [
    "print(\"Total number of BRCA samples: {}\".format(len(brca_clinical.index)))"
   ]
  },
  {
   "cell_type": "code",
   "execution_count": 133,
   "metadata": {},
   "outputs": [
    {
     "name": "stdout",
     "output_type": "stream",
     "text": [
      "Total number of non-BRCA samples: 9285\n"
     ]
    }
   ],
   "source": [
    "print(\"Total number of non-BRCA samples: {}\".format(len(non_brca_clinical.index)))"
   ]
  },
  {
   "cell_type": "code",
   "execution_count": 21,
   "metadata": {},
   "outputs": [],
   "source": [
    "index_with_clincal_info = set(brca_clinical.index).union(non_brca_clinical.index)\n",
    "index_with_NO_exp_info = index_with_clincal_info.difference(df_gene_exp.index)"
   ]
  },
  {
   "cell_type": "code",
   "execution_count": 26,
   "metadata": {},
   "outputs": [
    {
     "data": {
      "text/plain": [
       "(1212, 203)"
      ]
     },
     "execution_count": 26,
     "metadata": {},
     "output_type": "execute_result"
    }
   ],
   "source": [
    "# Drop patients in brca_clinical with no \n",
    "brca_clinical = brca_clinical.drop(index_with_NO_exp_info.intersection(brca_clinical.index))\n",
    "brca_clinical.shape"
   ]
  },
  {
   "cell_type": "code",
   "execution_count": 25,
   "metadata": {},
   "outputs": [
    {
     "data": {
      "text/plain": [
       "(9285, 34)"
      ]
     },
     "execution_count": 25,
     "metadata": {},
     "output_type": "execute_result"
    }
   ],
   "source": [
    "# Dropped patients in df_gene_exp are dropped too in each clinical data\n",
    "non_brca_clinical = non_brca_clinical.drop(index_with_NO_exp_info.intersection(non_brca_clinical.index))\n",
    "non_brca_clinical.shape"
   ]
  },
  {
   "cell_type": "code",
   "execution_count": 27,
   "metadata": {},
   "outputs": [
    {
     "data": {
      "text/plain": [
       "10497"
      ]
     },
     "execution_count": 27,
     "metadata": {},
     "output_type": "execute_result"
    }
   ],
   "source": [
    "1212+9285"
   ]
  },
  {
   "cell_type": "markdown",
   "metadata": {},
   "source": [
    "# Data exportation"
   ]
  },
  {
   "cell_type": "code",
   "execution_count": 174,
   "metadata": {},
   "outputs": [
    {
     "name": "stderr",
     "output_type": "stream",
     "text": [
      "/home/mcabello/almacen/miniconda3/envs/maria_env/lib/python3.6/site-packages/IPython/core/magics/execution.py:1238: PerformanceWarning: \n",
      "your performance may suffer as PyTables will pickle object types that it cannot\n",
      "map directly to c-types [inferred_type->mixed-integer,key->block0_values] [items->['AJCC_Stage_nature2012', 'Age_at_Initial_Pathologic_Diagnosis_nature2012', 'CN_Clusters_nature2012', 'Converted_Stage_nature2012', 'Days_to_Date_of_Last_Contact_nature2012', 'Days_to_date_of_Death_nature2012', 'ER_Status_nature2012', 'Gender_nature2012', 'HER2_Final_Status_nature2012', 'Integrated_Clusters_no_exp__nature2012', 'Integrated_Clusters_unsup_exp__nature2012', 'Integrated_Clusters_with_PAM50__nature2012', 'Metastasis_Coded_nature2012', 'Metastasis_nature2012', 'Node_Coded_nature2012', 'Node_nature2012', 'OS', 'OS.time', 'OS.unit', 'OS_Time_nature2012', 'OS_event_nature2012', 'PAM50Call_RNAseq', 'PAM50_mRNA_nature2012', 'PR_Status_nature2012', 'RFS', 'RFS.time', 'RFS.unit', 'RPPA_Clusters_nature2012', 'SigClust_Intrinsic_mRNA_nature2012', 'SigClust_Unsupervised_mRNA_nature2012', 'Survival_Data_Form_nature2012', 'Tumor_T1_Coded_nature2012', 'Tumor_nature2012', 'Vital_Status_nature2012', '_EVENT', '_GENOMIC_ID_TCGA_BRCA_G4502A_07_3', '_GENOMIC_ID_TCGA_BRCA_PDMRNAseq', '_GENOMIC_ID_TCGA_BRCA_PDMRNAseqCNV', '_GENOMIC_ID_TCGA_BRCA_PDMarray', '_GENOMIC_ID_TCGA_BRCA_PDMarrayCNV', '_GENOMIC_ID_TCGA_BRCA_RPPA', '_GENOMIC_ID_TCGA_BRCA_RPPA_RBN', '_GENOMIC_ID_TCGA_BRCA_exp_HiSeqV2', '_GENOMIC_ID_TCGA_BRCA_exp_HiSeqV2_PANCAN', '_GENOMIC_ID_TCGA_BRCA_exp_HiSeqV2_exon', '_GENOMIC_ID_TCGA_BRCA_exp_HiSeqV2_percentile', '_GENOMIC_ID_TCGA_BRCA_gistic2', '_GENOMIC_ID_TCGA_BRCA_gistic2thd', '_GENOMIC_ID_TCGA_BRCA_hMethyl27', '_GENOMIC_ID_TCGA_BRCA_hMethyl450', '_GENOMIC_ID_TCGA_BRCA_miRNA_GA', '_GENOMIC_ID_TCGA_BRCA_miRNA_HiSeq', '_GENOMIC_ID_TCGA_BRCA_mutation', '_GENOMIC_ID_TCGA_BRCA_mutation_curated_wustl_gene', '_GENOMIC_ID_TCGA_BRCA_mutation_wustl_gene', '_GENOMIC_ID_data/public/TCGA/BRCA/miRNA_GA_gene', '_GENOMIC_ID_data/public/TCGA/BRCA/miRNA_HiSeq_gene', '_INTEGRATION', '_PANCAN_CNA_PANCAN_K8', '_PANCAN_Cluster_Cluster_PANCAN', '_PANCAN_DNAMethyl_BRCA', '_PANCAN_DNAMethyl_PANCAN', '_PANCAN_RPPA_PANCAN_K8', '_PANCAN_UNC_RNAseq_PANCAN_K16', '_PANCAN_miRNA_PANCAN', '_PANCAN_mirna_BRCA', '_PANCAN_mutation_PANCAN', '_PATIENT', '_TIME_TO_EVENT', '_TIME_TO_EVENT_UNIT', '_cohort', '_primary_disease', '_primary_site', 'additional_pharmaceutical_therapy', 'additional_radiation_therapy', 'additional_surgery_locoregional_procedure', 'additional_surgery_metastatic_procedure', 'age_at_initial_pathologic_diagnosis', 'anatomic_neoplasm_subdivision', 'axillary_lymph_node_stage_method_type', 'axillary_lymph_node_stage_other_method_descriptive_text', 'bcr_followup_barcode', 'bcr_patient_barcode', 'bcr_sample_barcode', 'breast_cancer_surgery_margin_status', 'breast_carcinoma_estrogen_receptor_status', 'breast_carcinoma_immunohistochemistry_er_pos_finding_scale', 'breast_carcinoma_immunohistochemistry_pos_cell_score', 'breast_carcinoma_immunohistochemistry_prgstrn_rcptr_ps_fndng_scl', 'breast_carcinoma_primary_surgical_procedure_name', 'breast_carcinoma_progesterone_receptor_status', 'breast_carcinoma_surgical_procedure_name', 'breast_neoplasm_other_surgical_procedure_descriptive_text', 'cytokeratin_immunohistochemistry_staining_method_mcrmtstss_ndctr', 'days_to_additional_surgery_locoregional_procedure', 'days_to_additional_surgery_metastatic_procedure', 'days_to_birth', 'days_to_collection', 'days_to_death', 'days_to_initial_pathologic_diagnosis', 'days_to_last_followup', 'days_to_last_known_alive', 'days_to_new_tumor_event_additional_surgery_procedure', 'days_to_new_tumor_event_after_initial_treatment', 'disease_code', 'distant_metastasis_present_ind2', 'er_detection_method_text', 'er_level_cell_percentage_category', 'fluorescence_in_st_hybrdztn_dgnstc_prcdr_chrmsm_17_sgnl_rslt_rng', 'followup_case_report_form_submission_reason', 'form_completion_date', 'gender', 'her2_and_centromere_17_positive_finding_other_measuremnt_scl_txt', 'her2_erbb_method_calculation_method_text', 'her2_erbb_pos_finding_cell_percent_category', 'her2_erbb_pos_finding_fluorescence_n_st_hybrdztn_clcltn_mthd_txt', 'her2_immunohistochemistry_level_result', 'her2_neu_and_centromere_17_copy_number_analysis_npt_ttl_nmbr_cnt', 'her2_neu_breast_carcinoma_copy_analysis_input_total_number', 'her2_neu_chromosone_17_signal_ratio_value', 'her2_neu_metastatic_breast_carcinoma_copy_analysis_inpt_ttl_nmbr', 'histological_type', 'histological_type_other', 'history_of_neoadjuvant_treatment', 'hr2_n_nd_cntrmr_17_cpy_nmbr_mtsttc_brst_crcnm_nlyss_npt_ttl_nmbr', 'icd_10', 'icd_o_3_histology', 'icd_o_3_site', 'immunohistochemistry_positive_cell_score', 'informed_consent_verified', 'init_pathology_dx_method_other', 'initial_pathologic_diagnosis_method', 'initial_weight', 'is_ffpe', 'lab_proc_her2_neu_immunohistochemistry_receptor_status', 'lab_procedure_her2_neu_in_situ_hybrid_outcome_type', 'lost_follow_up', 'lymph_node_examined_count', 'margin_status', 'menopause_status', 'metastatic_breast_carcinm_ps_fndng_prgstrn_rcptr_thr_msr_scl_txt', 'metastatic_breast_carcinom_lb_prc_hr2_n_mmnhstchmstry_rcptr_stts', 'metastatic_breast_carcinoma_erbb2_immunohistochemistry_levl_rslt', 'metastatic_breast_carcinoma_estrogen_receptor_detection_mthd_txt', 'metastatic_breast_carcinoma_estrogen_receptor_status', 'metastatic_breast_carcinoma_estrogen_receptr_lvl_cll_prcnt_ctgry', 'metastatic_breast_carcinoma_her2_erbb_method_calculatin_mthd_txt', 'metastatic_breast_carcinoma_her2_erbb_pos_findng_cll_prcnt_ctgry', 'metastatic_breast_carcinoma_her2_neu_chromosone_17_signal_rat_vl', 'metastatic_breast_carcinoma_immunhstchmstry_r_pstv_fndng_scl_typ', 'metastatic_breast_carcinoma_immunohistochemistry_er_pos_cell_scr', 'metastatic_breast_carcinoma_immunohistochemistry_pr_pos_cell_scr', 'metastatic_breast_carcinoma_lab_proc_hr2_n_n_st_hybrdztn_tcm_typ', 'metastatic_breast_carcinoma_pos_finding_hr2_rbb2_thr_msr_scl_txt', 'metastatic_breast_carcinoma_progestern_rcptr_lvl_cll_prcnt_ctgry', 'metastatic_breast_carcinoma_progesterone_receptor_dtctn_mthd_txt', 'metastatic_breast_carcinoma_progesterone_receptor_status', 'metastatic_site_at_diagnosis', 'metastatic_site_at_diagnosis_other', 'methylation_Clusters_nature2012', 'miRNA_Clusters_nature2012', 'mtsttc_brst_crcnm_flrscnc_n_st_hybrdztn_dgnstc_prc_cntrmr_17_sgn', 'mtsttc_brst_crcnm_hr2_rbb_ps_fndng_flrscnc_n_st_hybrdztn_clcltn', 'mtsttc_brst_crcnm_mmnhstchmstry_prgstrn_rcptr_pstv_fndng_scl_typ', 'new_neoplasm_event_occurrence_anatomic_site', 'new_neoplasm_event_type', 'new_neoplasm_occurrence_anatomic_site_text', 'new_tumor_event_additional_surgery_procedure', 'new_tumor_event_after_initial_treatment', 'number_of_lymphnodes_positive_by_he', 'number_of_lymphnodes_positive_by_ihc', 'oct_embedded', 'other_dx', 'pathologic_M', 'pathologic_N', 'pathologic_T', 'pathologic_stage', 'pathology_report_file_name', 'patient_id', 'person_neoplasm_cancer_status', 'pgr_detection_method_text', 'pos_finding_her2_erbb2_other_measurement_scale_text', 'pos_finding_metastatic_brst_crcnm_strgn_rcptr_thr_msrmnt_scl_txt', 'pos_finding_progesterone_receptor_other_measurement_scale_text', 'positive_finding_estrogen_receptor_other_measurement_scale_text', 'postoperative_rx_tx', 'primary_lymph_node_presentation_assessment', 'progesterone_receptor_level_cell_percent_category', 'project_code', 'radiation_therapy', 'sampleID', 'sample_type', 'sample_type_id', 'surgical_procedure_purpose_other_text', 'system_version', 'targeted_molecular_therapy', 'tissue_prospective_collection_indicator', 'tissue_retrospective_collection_indicator', 'tissue_source_site', 'tumor_tissue_site', 'vial_number', 'vital_status', 'year_of_initial_pathologic_diagnosis']]\n",
      "\n",
      "  exec(code, glob, local_ns)\n",
      "/home/mcabello/almacen/miniconda3/envs/maria_env/lib/python3.6/site-packages/IPython/core/magics/execution.py:1238: PerformanceWarning: \n",
      "your performance may suffer as PyTables will pickle object types that it cannot\n",
      "map directly to c-types [inferred_type->mixed-integer,key->block0_values] [items->['DFI', 'DFI.time', 'DSS', 'DSS.time', 'OS', 'OS.time', 'PFI', 'PFI.time', 'Redaction', '_PATIENT', 'age_at_initial_pathologic_diagnosis', 'ajcc_pathologic_tumor_stage', 'birth_days_to', 'cancer type abbreviation', 'cause_of_death', 'clinical_stage', 'death_days_to', 'gender', 'histological_grade', 'histological_type', 'initial_pathologic_dx_year', 'last_contact_days_to', 'margin_status', 'menopause_status', 'new_tumor_event_dx_days_to', 'new_tumor_event_site', 'new_tumor_event_site_other', 'new_tumor_event_type', 'race', 'residual_tumor', 'sampleID', 'treatment_outcome_first_course', 'tumor_status', 'vital_status']]\n",
      "\n",
      "  exec(code, glob, local_ns)\n"
     ]
    },
    {
     "name": "stdout",
     "output_type": "stream",
     "text": [
      "CPU times: user 16.3 s, sys: 5.78 s, total: 22 s\n",
      "Wall time: 42 s\n"
     ]
    }
   ],
   "source": [
    "%%time\n",
    "#Saving clinical data (brca)\n",
    "\n",
    "with pd.HDFStore(\"data/TCGA_data.h5\", \"w\") as store:\n",
    "    store['brca_clinical'] = brca_clinical\n",
    "    store['non_brca_clinical'] = non_brca_clinical\n",
    "    store['both_gene_expression'] = df_gene_exp"
   ]
  }
 ],
 "metadata": {
  "kernelspec": {
   "display_name": "Python 3",
   "language": "python",
   "name": "python3"
  },
  "language_info": {
   "codemirror_mode": {
    "name": "ipython",
    "version": 3
   },
   "file_extension": ".py",
   "mimetype": "text/x-python",
   "name": "python",
   "nbconvert_exporter": "python",
   "pygments_lexer": "ipython3",
   "version": "3.6.5"
  }
 },
 "nbformat": 4,
 "nbformat_minor": 2
}
